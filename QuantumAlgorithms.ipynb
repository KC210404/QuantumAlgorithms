{
 "cells": [
  {
   "cell_type": "markdown",
   "id": "67aa9dbd",
   "metadata": {},
   "source": [
    "Name: Gudur Krishna Chaitanya\n",
    "Roll no: 102117049\n",
    "email used for gchaitanya_be21@thapar.edu"
   ]
  },
  {
   "cell_type": "raw",
   "id": "2c3975e9-5809-4dbe-a8d2-8ea440e3e37d",
   "metadata": {
    "tags": []
   },
   "source": [
    "I] Quantum Teleportation(A brief):\n",
    "-----------------------------------\n",
    "1.Entanglement: Quantum teleportation relies on the phenomenon of entanglement, where two or more quantum particles become correlated in such a way that the state of one particle instantly influences the state of another, regardless of the distance between them.\n",
    "\n",
    "2.Initialization: The process begins with the preparation of an entangled pair of qubits, often referred to as a Bell pair. This pair of qubits is shared between the sender (Alice) and the receiver (Bob).\n",
    "\n",
    "3.State Preparation: Alice wants to teleport an arbitrary quantum state to Bob. She prepares the state she wishes to teleport by applying operations to a qubit in her possession.\n",
    "\n",
    "4.Measurement and Communication: Alice then performs measurements on the qubits she possesses, including the qubit containing the unknown state and her half of the entangled pair. She obtains classical bits as a result of these measurements.\n",
    "\n",
    "5.Classical Communication: Alice sends the classical bits resulting from her measurements to Bob through classical communication channels.\n",
    "\n",
    "6.Conditional Operations: Upon receiving the classical bits from Alice, Bob performs conditional quantum operations on his half of the entangled pair based on the classical information he received.\n",
    "\n",
    "7.State Reconstruction: After applying the appropriate quantum operations, Bob's qubit assumes the state originally possessed by Alice's qubit. However, the original qubit held by Alice is destroyed in the process due to the no-cloning theorem, meaning the state has been faithfully transferred rather than copied.\n",
    "\n",
    "Now let us implement the code:"
   ]
  },
  {
   "cell_type": "code",
   "execution_count": null,
   "id": "13626940",
   "metadata": {},
   "outputs": [],
   "source": []
  },
  {
   "cell_type": "code",
   "execution_count": null,
   "id": "145cb89b-4f3a-4414-b901-998f94ea59bf",
   "metadata": {
    "tags": []
   },
   "outputs": [],
   "source": [
    "import numpy as np\n",
    "from qiskit import QuantumCircuit, QuantumRegister, ClassicalRegister\n",
    "from qiskit import transpile\n",
    "from qiskit.visualization import plot_histogram, plot_bloch_multivector, array_to_latex\n",
    "from qiskit.result import marginal_counts\n",
    "from qiskit.quantum_info import random_statevector\n",
    "import qiskit_aer"
   ]
  },
  {
   "cell_type": "code",
   "execution_count": 6,
   "id": "a4316313-2e9e-4994-8467-59437bfd4611",
   "metadata": {
    "tags": []
   },
   "outputs": [],
   "source": [
    "qr = QuantumRegister(2, name=\"Alice\")\n",
    "qr1=QuantumRegister(1, name=\"Bob\")   \n",
    "crz = ClassicalRegister(1, name=\"c0\")\n",
    "crx = ClassicalRegister(1, name=\"c1\") \n",
    "teleportation_circuit = QuantumCircuit(qr,qr1, crz, crx)"
   ]
  },
  {
   "cell_type": "code",
   "execution_count": 7,
   "id": "aafcbfeb-dc61-4639-a590-60014e2a51e1",
   "metadata": {
    "tags": []
   },
   "outputs": [],
   "source": [
    "def create_bell_pair(qc, a, b):\n",
    "    qc.h(a) \n",
    "    qc.cx(a,b) "
   ]
  },
  {
   "cell_type": "code",
   "execution_count": 39,
   "id": "a3d40a29-8b41-4843-b634-c958374665ad",
   "metadata": {
    "tags": []
   },
   "outputs": [
    {
     "data": {
      "text/html": [
       "<pre style=\"word-wrap: normal;white-space: pre;background: #fff0;line-height: 1.1;font-family: &quot;Courier New&quot;,Courier,monospace\">                   \n",
       "Alice_0: ──────────\n",
       "         ┌───┐     \n",
       "Alice_1: ┤ H ├──■──\n",
       "         └───┘┌─┴─┐\n",
       "    Bob: ─────┤ X ├\n",
       "              └───┘\n",
       "   c0: 1/══════════\n",
       "                   \n",
       "   c1: 1/══════════\n",
       "                   </pre>"
      ],
      "text/plain": [
       "                   \n",
       "Alice_0: ──────────\n",
       "         ┌───┐     \n",
       "Alice_1: ┤ H ├──■──\n",
       "         └───┘┌─┴─┐\n",
       "    Bob: ─────┤ X ├\n",
       "              └───┘\n",
       "   c0: 1/══════════\n",
       "                   \n",
       "   c1: 1/══════════\n",
       "                   "
      ]
     },
     "execution_count": 39,
     "metadata": {},
     "output_type": "execute_result"
    }
   ],
   "source": [
    "qr = QuantumRegister(2, name=\"Alice\")\n",
    "qr1=QuantumRegister(1, name=\"Bob\")\n",
    "crz, crx = ClassicalRegister(1, name=\"c0\"), ClassicalRegister(1, name=\"c1\")\n",
    "teleportation_circuit = QuantumCircuit(qr,qr1, crz, crx)\n",
    "create_bell_pair(teleportation_circuit, 1, 2)\n",
    "teleportation_circuit.draw(output='text',style='bw')"
   ]
  },
  {
   "cell_type": "code",
   "execution_count": 13,
   "id": "ebd75436-177a-41e2-a412-3f631cdbc8a6",
   "metadata": {
    "tags": []
   },
   "outputs": [],
   "source": [
    "def alice_gates(qc, psi, a):\n",
    "    qc.cx(psi, a)\n",
    "    qc.h(psi)"
   ]
  },
  {
   "cell_type": "code",
   "execution_count": 33,
   "id": "8e1bd36a-5c51-4939-bc5e-66133f50a422",
   "metadata": {
    "tags": []
   },
   "outputs": [
    {
     "data": {
      "text/html": [
       "<pre style=\"word-wrap: normal;white-space: pre;background: #fff0;line-height: 1.1;font-family: &quot;Courier New&quot;,Courier,monospace\">                    ░      ┌───┐\n",
       "Alice_0: ───────────░───■──┤ H ├\n",
       "         ┌───┐      ░ ┌─┴─┐└───┘\n",
       "Alice_1: ┤ H ├──■───░─┤ X ├─────\n",
       "         └───┘┌─┴─┐ ░ └───┘     \n",
       "    Bob: ─────┤ X ├─░───────────\n",
       "              └───┘ ░           \n",
       "   c0: 1/═══════════════════════\n",
       "                                \n",
       "   c1: 1/═══════════════════════\n",
       "                                </pre>"
      ],
      "text/plain": [
       "                    ░      ┌───┐\n",
       "Alice_0: ───────────░───■──┤ H ├\n",
       "         ┌───┐      ░ ┌─┴─┐└───┘\n",
       "Alice_1: ┤ H ├──■───░─┤ X ├─────\n",
       "         └───┘┌─┴─┐ ░ └───┘     \n",
       "    Bob: ─────┤ X ├─░───────────\n",
       "              └───┘ ░           \n",
       "   c0: 1/═══════════════════════\n",
       "                                \n",
       "   c1: 1/═══════════════════════\n",
       "                                "
      ]
     },
     "execution_count": 33,
     "metadata": {},
     "output_type": "execute_result"
    }
   ],
   "source": [
    "qr = QuantumRegister(2, name=\"Alice\")\n",
    "qr1=QuantumRegister(1, name=\"Bob\")\n",
    "crz, crx = ClassicalRegister(1, name=\"c0\"), ClassicalRegister(1, name=\"c1\")\n",
    "teleportation_circuit = QuantumCircuit(qr,qr1,crz, crx)\n",
    "create_bell_pair(teleportation_circuit, 1, 2)\n",
    "teleportation_circuit.barrier()\n",
    "alice_gates(teleportation_circuit, 0, 1)\n",
    "teleportation_circuit.draw(output='text',style='bw')"
   ]
  },
  {
   "cell_type": "code",
   "execution_count": 34,
   "id": "47c28cc3-6a9b-41cb-b439-25577ce5be09",
   "metadata": {
    "tags": []
   },
   "outputs": [],
   "source": [
    "def measure_and_send(qc, a, b):\n",
    "    qc.barrier()\n",
    "    qc.measure(a,0)\n",
    "    qc.measure(b,1)"
   ]
  },
  {
   "cell_type": "code",
   "execution_count": 35,
   "id": "94c172d6-5789-430b-9ae2-0b7e392f6dad",
   "metadata": {
    "tags": []
   },
   "outputs": [
    {
     "data": {
      "text/html": [
       "<pre style=\"word-wrap: normal;white-space: pre;background: #fff0;line-height: 1.1;font-family: &quot;Courier New&quot;,Courier,monospace\">                    ░      ┌───┐ ░ ┌─┐   \n",
       "Alice_0: ───────────░───■──┤ H ├─░─┤M├───\n",
       "         ┌───┐      ░ ┌─┴─┐└───┘ ░ └╥┘┌─┐\n",
       "Alice_1: ┤ H ├──■───░─┤ X ├──────░──╫─┤M├\n",
       "         └───┘┌─┴─┐ ░ └───┘      ░  ║ └╥┘\n",
       "    Bob: ─────┤ X ├─░────────────░──╫──╫─\n",
       "              └───┘ ░            ░  ║  ║ \n",
       "   c0: 1/═══════════════════════════╩══╬═\n",
       "                                    0  ║ \n",
       "   c1: 1/══════════════════════════════╩═\n",
       "                                       0 </pre>"
      ],
      "text/plain": [
       "                    ░      ┌───┐ ░ ┌─┐   \n",
       "Alice_0: ───────────░───■──┤ H ├─░─┤M├───\n",
       "         ┌───┐      ░ ┌─┴─┐└───┘ ░ └╥┘┌─┐\n",
       "Alice_1: ┤ H ├──■───░─┤ X ├──────░──╫─┤M├\n",
       "         └───┘┌─┴─┐ ░ └───┘      ░  ║ └╥┘\n",
       "    Bob: ─────┤ X ├─░────────────░──╫──╫─\n",
       "              └───┘ ░            ░  ║  ║ \n",
       "   c0: 1/═══════════════════════════╩══╬═\n",
       "                                    0  ║ \n",
       "   c1: 1/══════════════════════════════╩═\n",
       "                                       0 "
      ]
     },
     "execution_count": 35,
     "metadata": {},
     "output_type": "execute_result"
    }
   ],
   "source": [
    "qr = QuantumRegister(2, name=\"Alice\")\n",
    "qr1=QuantumRegister(1, name=\"Bob\")\n",
    "crz, crx = ClassicalRegister(1, name=\"c0\"), ClassicalRegister(1, name=\"c1\")\n",
    "teleportation_circuit = QuantumCircuit(qr,qr1,crz, crx)\n",
    "create_bell_pair(teleportation_circuit, 1, 2)\n",
    "teleportation_circuit.barrier() \n",
    "alice_gates(teleportation_circuit, 0, 1)\n",
    "measure_and_send(teleportation_circuit, 0 ,1)\n",
    "teleportation_circuit.draw(output='text',style='bw')"
   ]
  },
  {
   "cell_type": "code",
   "execution_count": 36,
   "id": "6510b23c-4acd-40d5-b09c-7d840b98a3bf",
   "metadata": {
    "tags": []
   },
   "outputs": [],
   "source": [
    "def bob_gates(qc, qubit, crz, crx):\n",
    "    qc.x(qubit).c_if(crx, 1) \n",
    "    qc.z(qubit).c_if(crz, 1) "
   ]
  },
  {
   "cell_type": "code",
   "execution_count": 37,
   "id": "235b3069-0861-4fc1-9855-78b60def01ef",
   "metadata": {
    "tags": []
   },
   "outputs": [
    {
     "data": {
      "text/html": [
       "<pre style=\"word-wrap: normal;white-space: pre;background: #fff0;line-height: 1.1;font-family: &quot;Courier New&quot;,Courier,monospace\">                    ░      ┌───┐ ░ ┌─┐    ░               \n",
       "Alice_0: ───────────░───■──┤ H ├─░─┤M├────░───────────────\n",
       "         ┌───┐      ░ ┌─┴─┐└───┘ ░ └╥┘┌─┐ ░               \n",
       "Alice_1: ┤ H ├──■───░─┤ X ├──────░──╫─┤M├─░───────────────\n",
       "         └───┘┌─┴─┐ ░ └───┘      ░  ║ └╥┘ ░  ┌───┐  ┌───┐ \n",
       "    Bob: ─────┤ X ├─░────────────░──╫──╫──░──┤ X ├──┤ Z ├─\n",
       "              └───┘ ░            ░  ║  ║  ░  └─╥─┘  └─╥─┘ \n",
       "                                    ║  ║       ║   ┌──╨──┐\n",
       "   c0: 1/═══════════════════════════╩══╬═══════╬═══╡ 0x1 ╞\n",
       "                                    0  ║    ┌──╨──┐└─────┘\n",
       "   c1: 1/══════════════════════════════╩════╡ 0x1 ╞═══════\n",
       "                                       0    └─────┘       </pre>"
      ],
      "text/plain": [
       "                    ░      ┌───┐ ░ ┌─┐    ░               \n",
       "Alice_0: ───────────░───■──┤ H ├─░─┤M├────░───────────────\n",
       "         ┌───┐      ░ ┌─┴─┐└───┘ ░ └╥┘┌─┐ ░               \n",
       "Alice_1: ┤ H ├──■───░─┤ X ├──────░──╫─┤M├─░───────────────\n",
       "         └───┘┌─┴─┐ ░ └───┘      ░  ║ └╥┘ ░  ┌───┐  ┌───┐ \n",
       "    Bob: ─────┤ X ├─░────────────░──╫──╫──░──┤ X ├──┤ Z ├─\n",
       "              └───┘ ░            ░  ║  ║  ░  └─╥─┘  └─╥─┘ \n",
       "                                    ║  ║       ║   ┌──╨──┐\n",
       "   c0: 1/═══════════════════════════╩══╬═══════╬═══╡ 0x1 ╞\n",
       "                                    0  ║    ┌──╨──┐└─────┘\n",
       "   c1: 1/══════════════════════════════╩════╡ 0x1 ╞═══════\n",
       "                                       0    └─────┘       "
      ]
     },
     "execution_count": 37,
     "metadata": {},
     "output_type": "execute_result"
    }
   ],
   "source": [
    "qr = QuantumRegister(2, name=\"Alice\")\n",
    "qr1=QuantumRegister(1, name=\"Bob\")\n",
    "crz, crx = ClassicalRegister(1, name=\"c0\"), ClassicalRegister(1, name=\"c1\")\n",
    "teleportation_circuit = QuantumCircuit(qr,qr1,crz, crx)\n",
    "create_bell_pair(teleportation_circuit, 1, 2)\n",
    "teleportation_circuit.barrier()\n",
    "alice_gates(teleportation_circuit, 0, 1)\n",
    "measure_and_send(teleportation_circuit, 0, 1)\n",
    "teleportation_circuit.barrier() \n",
    "bob_gates(teleportation_circuit, 2, crz, crx)\n",
    "teleportation_circuit.draw(output='text',style='bw')"
   ]
  },
  {
   "cell_type": "raw",
   "id": "53f4884b-d98d-4475-954a-cc61bfc334bc",
   "metadata": {},
   "source": [
    "II] Superdense Coding(A brief):\n",
    "--------------------------------\n",
    "1.Entanglement: The process begins with the creation of an entangled pair of qubits, typically through the use of a Bell state. Each qubit is sent to one of the parties, Alice and Bob.\n",
    "\n",
    "2.Encoding: Alice possesses the qubit she wants to send to Bob and wishes to convey two classical bits of information to him. By applying quantum gates to her qubit and exploiting the entanglement, Alice can encode the two classical bits into her qubit's state.\n",
    "\n",
    "3.Transmission: Alice sends her qubit to Bob through a quantum communication channel. This qubit carries the encoded information due to the entanglement and the operations Alice applied.\n",
    "\n",
    "4.Decoding: Upon receiving the qubit from Alice, Bob performs specific quantum operations on his qubit, which, combined with measurements, allow him to decode the two classical bits encoded by Alice. This decoding process extracts the classical information without directly measuring Alice's qubit state, preserving the quantum information encoded in the qubit.\n",
    "\n",
    "00 : I\n",
    "01 : X\n",
    "10 : Z\n",
    "11 : ZX"
   ]
  },
  {
   "cell_type": "code",
   "execution_count": null,
   "id": "84d23cc8-ec81-4229-838b-7e0b059dd937",
   "metadata": {
    "tags": []
   },
   "outputs": [],
   "source": [
    "from qiskit import QuantumCircuit\n",
    "from qiskit import transpile\n",
    "from qiskit.visualization import plot_histogram\n",
    "import qiskit_aer\n"
   ]
  },
  {
   "cell_type": "code",
   "execution_count": null,
   "id": "5ac6c52f-6970-41ea-8927-38eecc561d0c",
   "metadata": {
    "tags": []
   },
   "outputs": [],
   "source": [
    "def create_bell_pair():\n",
    "    qc = QuantumCircuit(2)\n",
    "    qc.h(1)\n",
    "    qc.cx(1, 0)\n",
    "    return qc"
   ]
  },
  {
   "cell_type": "code",
   "execution_count": 43,
   "id": "4026a178-9f65-4031-ade9-5b7ceecc5b24",
   "metadata": {
    "tags": []
   },
   "outputs": [],
   "source": [
    "def encode_message(qc, qubit, msg):\n",
    "    if len(msg) != 2 or not set(msg).issubset({\"0\",\"1\"}):\n",
    "        raise ValueError(f\"message '{msg}' is invalid\")\n",
    "    if msg[1] == \"1\":\n",
    "        qc.x(qubit)\n",
    "    if msg[0] == \"1\":\n",
    "        qc.z(qubit)\n",
    "    return qc"
   ]
  },
  {
   "cell_type": "code",
   "execution_count": 44,
   "id": "07851625-1e40-4133-a304-735471c9e5dc",
   "metadata": {
    "tags": []
   },
   "outputs": [],
   "source": [
    "def decode_message(qc):\n",
    "    qc.cx(1, 0)\n",
    "    qc.h(1)\n",
    "    return qc"
   ]
  },
  {
   "cell_type": "code",
   "execution_count": 45,
   "id": "b0c74115-cad1-4fa4-829f-b716b7c1fce0",
   "metadata": {
    "tags": []
   },
   "outputs": [
    {
     "data": {
      "text/html": [
       "<pre style=\"word-wrap: normal;white-space: pre;background: #fff0;line-height: 1.1;font-family: &quot;Courier New&quot;,Courier,monospace\">             ┌───┐ ░       ░ ┌───┐      ░ ┌─┐   \n",
       "   q_0: ─────┤ X ├─░───────░─┤ X ├──────░─┤M├───\n",
       "        ┌───┐└─┬─┘ ░ ┌───┐ ░ └─┬─┘┌───┐ ░ └╥┘┌─┐\n",
       "   q_1: ┤ H ├──■───░─┤ Z ├─░───■──┤ H ├─░──╫─┤M├\n",
       "        └───┘      ░ └───┘ ░      └───┘ ░  ║ └╥┘\n",
       "meas: 2/═══════════════════════════════════╩══╩═\n",
       "                                           0  1 </pre>"
      ],
      "text/plain": [
       "             ┌───┐ ░       ░ ┌───┐      ░ ┌─┐   \n",
       "   q_0: ─────┤ X ├─░───────░─┤ X ├──────░─┤M├───\n",
       "        ┌───┐└─┬─┘ ░ ┌───┐ ░ └─┬─┘┌───┐ ░ └╥┘┌─┐\n",
       "   q_1: ┤ H ├──■───░─┤ Z ├─░───■──┤ H ├─░──╫─┤M├\n",
       "        └───┘      ░ └───┘ ░      └───┘ ░  ║ └╥┘\n",
       "meas: 2/═══════════════════════════════════╩══╩═\n",
       "                                           0  1 "
      ]
     },
     "execution_count": 45,
     "metadata": {},
     "output_type": "execute_result"
    }
   ],
   "source": [
    "qc = create_bell_pair()\n",
    "qc.barrier()\n",
    "message = '10'\n",
    "qc = encode_message(qc, 1, message)\n",
    "qc.barrier()\n",
    "qc = decode_message(qc)\n",
    "qc.measure_all()\n",
    "qc.draw(output='text',style='bw')"
   ]
  },
  {
   "cell_type": "code",
   "execution_count": 59,
   "id": "3e2593b0-bb78-4e22-a3bb-bed9eea342fd",
   "metadata": {
    "tags": []
   },
   "outputs": [
    {
     "data": {
      "image/png": "[encoded data removed]",
      "text/plain": [
       "<Figure size 700x500 with 1 Axes>"
      ]
     },
     "execution_count": 59,
     "metadata": {},
     "output_type": "execute_result"
    }
   ],
   "source": [
    "aer_sim = qiskit_aer.Aer.get_backend('aer_simulator')\n",
    "result = aer_sim.run(qc).result()\n",
    "counts = result.get_counts(qc)\n",
    "plot_histogram(counts)\n"
   ]
  },
  {
   "cell_type": "raw",
   "id": "ff4cd460-3f53-46e6-8510-73e46ea02c72",
   "metadata": {
    "tags": []
   },
   "source": [
    "III] Deutsch-Josza algorithm(A brief):\n",
    "--------------------------------------- \n",
    "Problem Statement: Given a black-box function f:{0,1}^n →{0,1}\n",
    " determine whether the function is constant (returns the same value for all inputs) or balanced (returns 0 for half of the inputs and 1 for the other half).\n",
    " \n",
    "Quantum Solution: The Deutsch-Josza algorithm can solve this problem with a single query to the black-box function, providing a quadratic speedup over classical algorithms.\n",
    "Quantum Circuit:\n",
    "*The algorithm starts with an input register of 𝑛+1 qubits initialized to |0⟩⊗n |1⟩\n",
    "*Apply a Hadamard gate to each qubit to create a superposition of all possible input states.\n",
    "*Use a quantum oracle (the black-box function) that performs the transformation |x>|y> -> |x>|y⊕ f(x)>where \n",
    "y is the output qubit.\n",
    "*Apply Hadamard gates to the input qubits again.\n",
    "*Measure the input qubits. If all qubits collapse to ∣0⟩, the function is constant; otherwise, it is balanced."
   ]
  },
  {
   "cell_type": "code",
   "execution_count": 62,
   "id": "881301e2-7a80-45f2-88f7-68b3376a4ccf",
   "metadata": {
    "tags": []
   },
   "outputs": [],
   "source": [
    "import numpy as np\n",
    "from qiskit import QuantumCircuit, transpile\n",
    "import qiskit_aer\n",
    "from qiskit.visualization import plot_histogram"
   ]
  },
  {
   "cell_type": "code",
   "execution_count": 63,
   "id": "5f21d38c-9419-4c71-ace7-dc2b2573aee6",
   "metadata": {
    "tags": []
   },
   "outputs": [],
   "source": [
    "n = 3"
   ]
  },
  {
   "cell_type": "code",
   "execution_count": 64,
   "id": "c7d44f48-a094-4afd-b954-c560b3c5b0b6",
   "metadata": {
    "tags": []
   },
   "outputs": [
    {
     "data": {
      "text/html": [
       "<pre style=\"word-wrap: normal;white-space: pre;background: #fff0;line-height: 1.1;font-family: &quot;Courier New&quot;,Courier,monospace\">     \n",
       "q_0: \n",
       "     \n",
       "q_1: \n",
       "     \n",
       "q_2: \n",
       "     \n",
       "q_3: \n",
       "     </pre>"
      ],
      "text/plain": [
       "     \n",
       "q_0: \n",
       "     \n",
       "q_1: \n",
       "     \n",
       "q_2: \n",
       "     \n",
       "q_3: \n",
       "     "
      ]
     },
     "execution_count": 64,
     "metadata": {},
     "output_type": "execute_result"
    }
   ],
   "source": [
    "n = 3\n",
    "const_oracle = QuantumCircuit(n+1)\n",
    "output = np.random.randint(2)\n",
    "if output == 1:\n",
    "    const_oracle.x(n)\n",
    "const_oracle.draw(output='text',style='bw')"
   ]
  },
  {
   "cell_type": "code",
   "execution_count": 65,
   "id": "f6475657-392a-4574-85e5-54d72a886ef0",
   "metadata": {
    "tags": []
   },
   "outputs": [],
   "source": [
    "balanced_oracle = QuantumCircuit(n+1)\n",
    "b_str = \"101\""
   ]
  },
  {
   "cell_type": "code",
   "execution_count": 66,
   "id": "f27bc74b-fa3b-474d-8cd3-79763ac5c931",
   "metadata": {
    "tags": []
   },
   "outputs": [
    {
     "data": {
      "text/html": [
       "<pre style=\"word-wrap: normal;white-space: pre;background: #fff0;line-height: 1.1;font-family: &quot;Courier New&quot;,Courier,monospace\">     ┌───┐\n",
       "q_0: ┤ X ├\n",
       "     └───┘\n",
       "q_1: ─────\n",
       "     ┌───┐\n",
       "q_2: ┤ X ├\n",
       "     └───┘\n",
       "q_3: ─────\n",
       "          </pre>"
      ],
      "text/plain": [
       "     ┌───┐\n",
       "q_0: ┤ X ├\n",
       "     └───┘\n",
       "q_1: ─────\n",
       "     ┌───┐\n",
       "q_2: ┤ X ├\n",
       "     └───┘\n",
       "q_3: ─────\n",
       "          "
      ]
     },
     "execution_count": 66,
     "metadata": {},
     "output_type": "execute_result"
    }
   ],
   "source": [
    "balanced_oracle = QuantumCircuit(n+1)\n",
    "b_str = \"101\"\n",
    "for qubit in range(len(b_str)):\n",
    "    if b_str[qubit] == '1':\n",
    "        balanced_oracle.x(qubit)\n",
    "balanced_oracle.draw(output='text',style='bw')"
   ]
  },
  {
   "cell_type": "code",
   "execution_count": 67,
   "id": "1d13f1e7-d23c-4a85-89e9-edced138e255",
   "metadata": {
    "tags": []
   },
   "outputs": [
    {
     "data": {
      "text/html": [
       "<pre style=\"word-wrap: normal;white-space: pre;background: #fff0;line-height: 1.1;font-family: &quot;Courier New&quot;,Courier,monospace\">     ┌───┐ ░                 ░ \n",
       "q_0: ┤ X ├─░───■─────────────░─\n",
       "     └───┘ ░   │             ░ \n",
       "q_1: ──────░───┼────■────────░─\n",
       "     ┌───┐ ░   │    │        ░ \n",
       "q_2: ┤ X ├─░───┼────┼────■───░─\n",
       "     └───┘ ░ ┌─┴─┐┌─┴─┐┌─┴─┐ ░ \n",
       "q_3: ──────░─┤ X ├┤ X ├┤ X ├─░─\n",
       "           ░ └───┘└───┘└───┘ ░ </pre>"
      ],
      "text/plain": [
       "     ┌───┐ ░                 ░ \n",
       "q_0: ┤ X ├─░───■─────────────░─\n",
       "     └───┘ ░   │             ░ \n",
       "q_1: ──────░───┼────■────────░─\n",
       "     ┌───┐ ░   │    │        ░ \n",
       "q_2: ┤ X ├─░───┼────┼────■───░─\n",
       "     └───┘ ░ ┌─┴─┐┌─┴─┐┌─┴─┐ ░ \n",
       "q_3: ──────░─┤ X ├┤ X ├┤ X ├─░─\n",
       "           ░ └───┘└───┘└───┘ ░ "
      ]
     },
     "execution_count": 67,
     "metadata": {},
     "output_type": "execute_result"
    }
   ],
   "source": [
    "balanced_oracle = QuantumCircuit(n+1)\n",
    "b_str = \"101\"\n",
    "for qubit in range(len(b_str)):\n",
    "    if b_str[qubit] == '1':\n",
    "        balanced_oracle.x(qubit)\n",
    "balanced_oracle.barrier()\n",
    "for qubit in range(n):\n",
    "    balanced_oracle.cx(qubit, n)\n",
    "balanced_oracle.barrier()\n",
    "balanced_oracle.draw(output='text',style='bw')"
   ]
  },
  {
   "cell_type": "code",
   "execution_count": 68,
   "id": "0bff5ef1-1fe9-4a9c-bf6d-6aef9a6b7626",
   "metadata": {
    "tags": []
   },
   "outputs": [
    {
     "data": {
      "text/html": [
       "<pre style=\"word-wrap: normal;white-space: pre;background: #fff0;line-height: 1.1;font-family: &quot;Courier New&quot;,Courier,monospace\">     ┌───┐ ░                 ░ ┌───┐\n",
       "q_0: ┤ X ├─░───■─────────────░─┤ X ├\n",
       "     └───┘ ░   │             ░ └───┘\n",
       "q_1: ──────░───┼────■────────░──────\n",
       "     ┌───┐ ░   │    │        ░ ┌───┐\n",
       "q_2: ┤ X ├─░───┼────┼────■───░─┤ X ├\n",
       "     └───┘ ░ ┌─┴─┐┌─┴─┐┌─┴─┐ ░ └───┘\n",
       "q_3: ──────░─┤ X ├┤ X ├┤ X ├─░──────\n",
       "           ░ └───┘└───┘└───┘ ░      </pre>"
      ],
      "text/plain": [
       "     ┌───┐ ░                 ░ ┌───┐\n",
       "q_0: ┤ X ├─░───■─────────────░─┤ X ├\n",
       "     └───┘ ░   │             ░ └───┘\n",
       "q_1: ──────░───┼────■────────░──────\n",
       "     ┌───┐ ░   │    │        ░ ┌───┐\n",
       "q_2: ┤ X ├─░───┼────┼────■───░─┤ X ├\n",
       "     └───┘ ░ ┌─┴─┐┌─┴─┐┌─┴─┐ ░ └───┘\n",
       "q_3: ──────░─┤ X ├┤ X ├┤ X ├─░──────\n",
       "           ░ └───┘└───┘└───┘ ░      "
      ]
     },
     "execution_count": 68,
     "metadata": {},
     "output_type": "execute_result"
    }
   ],
   "source": [
    "balanced_oracle = QuantumCircuit(n+1)\n",
    "b_str = \"101\"\n",
    "for qubit in range(len(b_str)):\n",
    "    if b_str[qubit] == '1':\n",
    "        balanced_oracle.x(qubit)\n",
    "balanced_oracle.barrier()\n",
    "for qubit in range(n):\n",
    "    balanced_oracle.cx(qubit, n)\n",
    "balanced_oracle.barrier()\n",
    "for qubit in range(len(b_str)):\n",
    "    if b_str[qubit] == '1':\n",
    "        balanced_oracle.x(qubit)\n",
    "balanced_oracle.draw(output='text',style='bw')"
   ]
  },
  {
   "cell_type": "code",
   "execution_count": 69,
   "id": "4ddfad65-9524-473e-a028-d9d7c3edcc77",
   "metadata": {
    "tags": []
   },
   "outputs": [
    {
     "data": {
      "text/html": [
       "<pre style=\"word-wrap: normal;white-space: pre;background: #fff0;line-height: 1.1;font-family: &quot;Courier New&quot;,Courier,monospace\">     ┌───┐     \n",
       "q_0: ┤ H ├─────\n",
       "     ├───┤     \n",
       "q_1: ┤ H ├─────\n",
       "     ├───┤     \n",
       "q_2: ┤ H ├─────\n",
       "     ├───┤┌───┐\n",
       "q_3: ┤ X ├┤ H ├\n",
       "     └───┘└───┘\n",
       "c: 3/══════════\n",
       "               </pre>"
      ],
      "text/plain": [
       "     ┌───┐     \n",
       "q_0: ┤ H ├─────\n",
       "     ├───┤     \n",
       "q_1: ┤ H ├─────\n",
       "     ├───┤     \n",
       "q_2: ┤ H ├─────\n",
       "     ├───┤┌───┐\n",
       "q_3: ┤ X ├┤ H ├\n",
       "     └───┘└───┘\n",
       "c: 3/══════════\n",
       "               "
      ]
     },
     "execution_count": 69,
     "metadata": {},
     "output_type": "execute_result"
    }
   ],
   "source": [
    "dj_circuit = QuantumCircuit(n+1, n)\n",
    "for qubit in range(n):\n",
    "    dj_circuit.h(qubit)\n",
    "dj_circuit.x(n)\n",
    "dj_circuit.h(n)\n",
    "dj_circuit.draw(output='text',style='bw')"
   ]
  },
  {
   "cell_type": "code",
   "execution_count": 70,
   "id": "490ddfe0-35c2-4f66-95e9-b1614ea13ee0",
   "metadata": {
    "tags": []
   },
   "outputs": [
    {
     "data": {
      "text/html": [
       "<pre style=\"word-wrap: normal;white-space: pre;background: #fff0;line-height: 1.1;font-family: &quot;Courier New&quot;,Courier,monospace\">     ┌───┐┌───┐ ░                 ░ ┌───┐\n",
       "q_0: ┤ H ├┤ X ├─░───■─────────────░─┤ X ├\n",
       "     ├───┤└───┘ ░   │             ░ └───┘\n",
       "q_1: ┤ H ├──────░───┼────■────────░──────\n",
       "     ├───┤┌───┐ ░   │    │        ░ ┌───┐\n",
       "q_2: ┤ H ├┤ X ├─░───┼────┼────■───░─┤ X ├\n",
       "     ├───┤├───┤ ░ ┌─┴─┐┌─┴─┐┌─┴─┐ ░ └───┘\n",
       "q_3: ┤ X ├┤ H ├─░─┤ X ├┤ X ├┤ X ├─░──────\n",
       "     └───┘└───┘ ░ └───┘└───┘└───┘ ░      \n",
       "c: 3/════════════════════════════════════\n",
       "                                         </pre>"
      ],
      "text/plain": [
       "     ┌───┐┌───┐ ░                 ░ ┌───┐\n",
       "q_0: ┤ H ├┤ X ├─░───■─────────────░─┤ X ├\n",
       "     ├───┤└───┘ ░   │             ░ └───┘\n",
       "q_1: ┤ H ├──────░───┼────■────────░──────\n",
       "     ├───┤┌───┐ ░   │    │        ░ ┌───┐\n",
       "q_2: ┤ H ├┤ X ├─░───┼────┼────■───░─┤ X ├\n",
       "     ├───┤├───┤ ░ ┌─┴─┐┌─┴─┐┌─┴─┐ ░ └───┘\n",
       "q_3: ┤ X ├┤ H ├─░─┤ X ├┤ X ├┤ X ├─░──────\n",
       "     └───┘└───┘ ░ └───┘└───┘└───┘ ░      \n",
       "c: 3/════════════════════════════════════\n",
       "                                         "
      ]
     },
     "execution_count": 70,
     "metadata": {},
     "output_type": "execute_result"
    }
   ],
   "source": [
    "dj_circuit = QuantumCircuit(n+1, n)\n",
    "for qubit in range(n):\n",
    "    dj_circuit.h(qubit)\n",
    "dj_circuit.x(n)\n",
    "dj_circuit.h(n)\n",
    "dj_circuit = dj_circuit.compose(balanced_oracle)\n",
    "dj_circuit.draw(output='text',style='bw')"
   ]
  },
  {
   "cell_type": "code",
   "execution_count": 71,
   "id": "aceb48fd-a440-45b3-b87b-a98b14c94b54",
   "metadata": {
    "tags": []
   },
   "outputs": [
    {
     "data": {
      "text/html": [
       "<pre style=\"word-wrap: normal;white-space: pre;background: #fff0;line-height: 1.1;font-family: &quot;Courier New&quot;,Courier,monospace\">     ┌───┐┌───┐ ░                 ░ ┌───┐┌───┐ ░ ┌─┐      \n",
       "q_0: ┤ H ├┤ X ├─░───■─────────────░─┤ X ├┤ H ├─░─┤M├──────\n",
       "     ├───┤└───┘ ░   │             ░ ├───┤└───┘ ░ └╥┘┌─┐   \n",
       "q_1: ┤ H ├──────░───┼────■────────░─┤ H ├──────░──╫─┤M├───\n",
       "     ├───┤┌───┐ ░   │    │        ░ ├───┤┌───┐ ░  ║ └╥┘┌─┐\n",
       "q_2: ┤ H ├┤ X ├─░───┼────┼────■───░─┤ X ├┤ H ├─░──╫──╫─┤M├\n",
       "     ├───┤├───┤ ░ ┌─┴─┐┌─┴─┐┌─┴─┐ ░ └───┘└───┘ ░  ║  ║ └╥┘\n",
       "q_3: ┤ X ├┤ H ├─░─┤ X ├┤ X ├┤ X ├─░────────────░──╫──╫──╫─\n",
       "     └───┘└───┘ ░ └───┘└───┘└───┘ ░            ░  ║  ║  ║ \n",
       "c: 3/═════════════════════════════════════════════╩══╩══╩═\n",
       "                                                  0  1  2 </pre>"
      ],
      "text/plain": [
       "     ┌───┐┌───┐ ░                 ░ ┌───┐┌───┐ ░ ┌─┐      \n",
       "q_0: ┤ H ├┤ X ├─░───■─────────────░─┤ X ├┤ H ├─░─┤M├──────\n",
       "     ├───┤└───┘ ░   │             ░ ├───┤└───┘ ░ └╥┘┌─┐   \n",
       "q_1: ┤ H ├──────░───┼────■────────░─┤ H ├──────░──╫─┤M├───\n",
       "     ├───┤┌───┐ ░   │    │        ░ ├───┤┌───┐ ░  ║ └╥┘┌─┐\n",
       "q_2: ┤ H ├┤ X ├─░───┼────┼────■───░─┤ X ├┤ H ├─░──╫──╫─┤M├\n",
       "     ├───┤├───┤ ░ ┌─┴─┐┌─┴─┐┌─┴─┐ ░ └───┘└───┘ ░  ║  ║ └╥┘\n",
       "q_3: ┤ X ├┤ H ├─░─┤ X ├┤ X ├┤ X ├─░────────────░──╫──╫──╫─\n",
       "     └───┘└───┘ ░ └───┘└───┘└───┘ ░            ░  ║  ║  ║ \n",
       "c: 3/═════════════════════════════════════════════╩══╩══╩═\n",
       "                                                  0  1  2 "
      ]
     },
     "execution_count": 71,
     "metadata": {},
     "output_type": "execute_result"
    }
   ],
   "source": [
    "dj_circuit = QuantumCircuit(n+1, n)\n",
    "for qubit in range(n):\n",
    "    dj_circuit.h(qubit)\n",
    "dj_circuit.x(n)\n",
    "dj_circuit.h(n)\n",
    "dj_circuit = dj_circuit.compose(balanced_oracle)\n",
    "for qubit in range(n):\n",
    "    dj_circuit.h(qubit)\n",
    "dj_circuit.barrier()\n",
    "for i in range(n):\n",
    "    dj_circuit.measure(i, i)\n",
    "dj_circuit.draw(output='text',style='bw')"
   ]
  },
  {
   "cell_type": "code",
   "execution_count": 30,
   "id": "742d580f-7206-4710-b210-8f1f3c0dd44a",
   "metadata": {
    "tags": []
   },
   "outputs": [
    {
     "data": {
      "image/png": "[encoded data removed]",
      "text/plain": [
       "<Figure size 700x500 with 1 Axes>"
      ]
     },
     "execution_count": 30,
     "metadata": {},
     "output_type": "execute_result"
    }
   ],
   "source": [
    "aer_sim = qiskit_aer.Aer.get_backend('aer_simulator')\n",
    "results = aer_sim.run(dj_circuit).result()\n",
    "answer = results.get_counts()\n",
    "plot_histogram(answer)"
   ]
  },
  {
   "cell_type": "raw",
   "id": "3d1a0b6f-a3df-49ca-812c-d2d9bfc6e454",
   "metadata": {
    "tags": []
   },
   "source": [
    "IV] Shor's Algorithm(A brief):\n",
    "-----------------------------\n",
    "Problem: Factoring large integers is traditionally considered a computationally difficult problem, especially for classical computers. The difficulty forms the basis of many modern encryption schemes, such as RSA.\n",
    "Efficiency: Shor's algorithm is exponentially faster than the best-known classical factoring algorithms. It can factor an \n",
    "𝑛\n",
    "n-bit integer in polynomial time, compared to the exponential time required by classical algorithms.\n",
    "Quantum Fourier Transform (QFT): A key component of Shor's algorithm is the Quantum Fourier Transform, a quantum analog of the classical Fourier Transform. The QFT efficiently computes the periodicity of a function, which is crucial for factoring large numbers."
   ]
  },
  {
   "cell_type": "code",
   "execution_count": 73,
   "id": "20d6f07f-d499-43b9-a52d-df6051fcc261",
   "metadata": {
    "tags": []
   },
   "outputs": [
    {
     "name": "stderr",
     "output_type": "stream",
     "text": [
      "/opt/conda/lib/python3.10/site-packages/pandas/core/computation/expressions.py:21: UserWarning: Pandas requires version '2.8.4' or newer of 'numexpr' (version '2.8.3' currently installed).\n",
      "  from pandas.core.computation.check import NUMEXPR_INSTALLED\n",
      "/opt/conda/lib/python3.10/site-packages/pandas/core/arrays/masked.py:60: UserWarning: Pandas requires version '1.3.6' or newer of 'bottleneck' (version '1.3.5' currently installed).\n",
      "  from pandas.core import (\n"
     ]
    }
   ],
   "source": [
    "import matplotlib.pyplot as plt\n",
    "import numpy as np\n",
    "from qiskit import QuantumCircuit, transpile\n",
    "from qiskit.visualization import plot_histogram\n",
    "from math import gcd\n",
    "from numpy.random import randint\n",
    "import pandas as pd\n",
    "from fractions import Fraction\n",
    "import qiskit_aer"
   ]
  },
  {
   "cell_type": "code",
   "execution_count": 74,
   "id": "31a34bba-b7fc-414e-ab64-fad6bfc8fe64",
   "metadata": {
    "tags": []
   },
   "outputs": [
    {
     "data": {
      "image/png": "[encoded data removed]",
      "text/plain": [
       "<Figure size 640x480 with 1 Axes>"
      ]
     },
     "metadata": {},
     "output_type": "display_data"
    }
   ],
   "source": [
    "N = 35\n",
    "a = 3\n",
    "xvals = np.arange(35)\n",
    "yvals = [np.mod(a**x, N) for x in xvals]\n",
    "fig, ax = plt.subplots()\n",
    "ax.plot(xvals, yvals, linewidth=1, linestyle='dotted', marker='x')\n",
    "ax.set(xlabel='$x$', ylabel=f'${a}^x$ mod ${N}$',\n",
    "       title=\"Example of Periodic Function in Shor's Algorithm\")\n",
    "try: \n",
    "    r = yvals[1:].index(1) + 1\n",
    "    plt.annotate('', xy=(0,1), xytext=(r,1),\n",
    "                 arrowprops=dict(arrowstyle='<->'))\n",
    "    plt.annotate(f'$r={r}$', xy=(r/3,1.5))\n",
    "except ValueError:\n",
    "    print('Could not find period, check a < N and have no common factors.')"
   ]
  },
  {
   "cell_type": "code",
   "execution_count": 75,
   "id": "e8a6d8ce-c611-4901-919f-99638302100a",
   "metadata": {
    "tags": []
   },
   "outputs": [
    {
     "data": {
      "image/png": "[encoded data removed]",
      "text/plain": [
       "<Figure size 640x480 with 1 Axes>"
      ]
     },
     "execution_count": 75,
     "metadata": {},
     "output_type": "execute_result"
    }
   ],
   "source": [
    "ax.set(xlabel='Number of applications of U',\n",
    "       ylabel='End state of register',\n",
    "       title=\"Effect of Successive Applications of U\")\n",
    "fig"
   ]
  },
  {
   "cell_type": "code",
   "execution_count": 76,
   "id": "0bf2a8cd-e940-4061-8d98-2cae7e532858",
   "metadata": {
    "tags": []
   },
   "outputs": [],
   "source": [
    "def c_amod15(a, power):\n",
    "    if a not in [2,4,7,8,11,13]:\n",
    "        raise ValueError(\"'a' must be 2,4,7,8,11 or 13\")\n",
    "    U = QuantumCircuit(4)\n",
    "    for _iteration in range(power):\n",
    "        if a in [2,13]:\n",
    "            U.swap(2,3)\n",
    "            U.swap(1,2)\n",
    "            U.swap(0,1)\n",
    "        if a in [7,8]:\n",
    "            U.swap(0,1)\n",
    "            U.swap(1,2)\n",
    "            U.swap(2,3)\n",
    "        if a in [4, 11]:\n",
    "            U.swap(1,3)\n",
    "            U.swap(0,2)\n",
    "        if a in [7,11,13]:\n",
    "            for q in range(4):\n",
    "                U.x(q)\n",
    "    U = U.to_gate()\n",
    "    U.name = f\"{a}^{power} mod 15\"\n",
    "    c_U = U.control()\n",
    "    return c_U"
   ]
  },
  {
   "cell_type": "code",
   "execution_count": 77,
   "id": "4f0280e0-a8b7-49c6-ad4c-e11e5709252f",
   "metadata": {
    "tags": []
   },
   "outputs": [],
   "source": [
    "N_COUNT = 8 \n",
    "a = 7"
   ]
  },
  {
   "cell_type": "code",
   "execution_count": 78,
   "id": "a6cc7276-ede5-4951-bd7f-fdc201ab327c",
   "metadata": {
    "tags": []
   },
   "outputs": [],
   "source": [
    "def qft_dagger(n):\n",
    "    qc = QuantumCircuit(n)\n",
    "    for qubit in range(n//2):\n",
    "        qc.swap(qubit, n-qubit-1)\n",
    "    for j in range(n):\n",
    "        for m in range(j):\n",
    "            qc.cp(-np.pi/float(2**(j-m)), m, j)\n",
    "        qc.h(j)\n",
    "    qc.name = \"QFT†\"\n",
    "    return qc"
   ]
  },
  {
   "cell_type": "code",
   "execution_count": 79,
   "id": "8471eb19-7c45-41b8-a11e-9fccb0b29111",
   "metadata": {
    "tags": []
   },
   "outputs": [
    {
     "data": {
      "text/html": [
       "<pre style=\"word-wrap: normal;white-space: pre;background: #fff0;line-height: 1.1;font-family: &quot;Courier New&quot;,Courier,monospace\">      ┌───┐                                                                                                                             ┌───────┐┌─┐                     \n",
       " q_0: ┤ H ├───────■─────────────────────────────────────────────────────────────────────────────────────────────────────────────────────┤0      ├┤M├─────────────────────\n",
       "      ├───┤       │                                                                                                                     │       │└╥┘┌─┐                  \n",
       " q_1: ┤ H ├───────┼──────────────■──────────────────────────────────────────────────────────────────────────────────────────────────────┤1      ├─╫─┤M├──────────────────\n",
       "      ├───┤       │              │                                                                                                      │       │ ║ └╥┘┌─┐               \n",
       " q_2: ┤ H ├───────┼──────────────┼──────────────■───────────────────────────────────────────────────────────────────────────────────────┤2      ├─╫──╫─┤M├───────────────\n",
       "      ├───┤       │              │              │                                                                                       │       │ ║  ║ └╥┘┌─┐            \n",
       " q_3: ┤ H ├───────┼──────────────┼──────────────┼──────────────■────────────────────────────────────────────────────────────────────────┤3      ├─╫──╫──╫─┤M├────────────\n",
       "      ├───┤       │              │              │              │                                                                        │  QFT† │ ║  ║  ║ └╥┘┌─┐         \n",
       " q_4: ┤ H ├───────┼──────────────┼──────────────┼──────────────┼──────────────■─────────────────────────────────────────────────────────┤4      ├─╫──╫──╫──╫─┤M├─────────\n",
       "      ├───┤       │              │              │              │              │                                                         │       │ ║  ║  ║  ║ └╥┘┌─┐      \n",
       " q_5: ┤ H ├───────┼──────────────┼──────────────┼──────────────┼──────────────┼───────────────■─────────────────────────────────────────┤5      ├─╫──╫──╫──╫──╫─┤M├──────\n",
       "      ├───┤       │              │              │              │              │               │                                         │       │ ║  ║  ║  ║  ║ └╥┘┌─┐   \n",
       " q_6: ┤ H ├───────┼──────────────┼──────────────┼──────────────┼──────────────┼───────────────┼───────────────■─────────────────────────┤6      ├─╫──╫──╫──╫──╫──╫─┤M├───\n",
       "      ├───┤       │              │              │              │              │               │               │                         │       │ ║  ║  ║  ║  ║  ║ └╥┘┌─┐\n",
       " q_7: ┤ H ├───────┼──────────────┼──────────────┼──────────────┼──────────────┼───────────────┼───────────────┼────────────────■────────┤7      ├─╫──╫──╫──╫──╫──╫──╫─┤M├\n",
       "      ├───┤┌──────┴──────┐┌──────┴──────┐┌──────┴──────┐┌──────┴──────┐┌──────┴───────┐┌──────┴───────┐┌──────┴───────┐┌───────┴───────┐└───────┘ ║  ║  ║  ║  ║  ║  ║ └╥┘\n",
       " q_8: ┤ X ├┤0            ├┤0            ├┤0            ├┤0            ├┤0             ├┤0             ├┤0             ├┤0              ├──────────╫──╫──╫──╫──╫──╫──╫──╫─\n",
       "      └───┘│             ││             ││             ││             ││              ││              ││              ││               │          ║  ║  ║  ║  ║  ║  ║  ║ \n",
       " q_9: ─────┤1            ├┤1            ├┤1            ├┤1            ├┤1             ├┤1             ├┤1             ├┤1              ├──────────╫──╫──╫──╫──╫──╫──╫──╫─\n",
       "           │  7^1 mod 15 ││  7^2 mod 15 ││  7^4 mod 15 ││  7^8 mod 15 ││  7^16 mod 15 ││  7^32 mod 15 ││  7^64 mod 15 ││  7^128 mod 15 │          ║  ║  ║  ║  ║  ║  ║  ║ \n",
       "q_10: ─────┤2            ├┤2            ├┤2            ├┤2            ├┤2             ├┤2             ├┤2             ├┤2              ├──────────╫──╫──╫──╫──╫──╫──╫──╫─\n",
       "           │             ││             ││             ││             ││              ││              ││              ││               │          ║  ║  ║  ║  ║  ║  ║  ║ \n",
       "q_11: ─────┤3            ├┤3            ├┤3            ├┤3            ├┤3             ├┤3             ├┤3             ├┤3              ├──────────╫──╫──╫──╫──╫──╫──╫──╫─\n",
       "           └─────────────┘└─────────────┘└─────────────┘└─────────────┘└──────────────┘└──────────────┘└──────────────┘└───────────────┘          ║  ║  ║  ║  ║  ║  ║  ║ \n",
       " c: 8/════════════════════════════════════════════════════════════════════════════════════════════════════════════════════════════════════════════╩══╩══╩══╩══╩══╩══╩══╩═\n",
       "                                                                                                                                                  0  1  2  3  4  5  6  7 </pre>"
      ],
      "text/plain": [
       "      ┌───┐                                                                                                                             ┌───────┐┌─┐                     \n",
       " q_0: ┤ H ├───────■─────────────────────────────────────────────────────────────────────────────────────────────────────────────────────┤0      ├┤M├─────────────────────\n",
       "      ├───┤       │                                                                                                                     │       │└╥┘┌─┐                  \n",
       " q_1: ┤ H ├───────┼──────────────■──────────────────────────────────────────────────────────────────────────────────────────────────────┤1      ├─╫─┤M├──────────────────\n",
       "      ├───┤       │              │                                                                                                      │       │ ║ └╥┘┌─┐               \n",
       " q_2: ┤ H ├───────┼──────────────┼──────────────■───────────────────────────────────────────────────────────────────────────────────────┤2      ├─╫──╫─┤M├───────────────\n",
       "      ├───┤       │              │              │                                                                                       │       │ ║  ║ └╥┘┌─┐            \n",
       " q_3: ┤ H ├───────┼──────────────┼──────────────┼──────────────■────────────────────────────────────────────────────────────────────────┤3      ├─╫──╫──╫─┤M├────────────\n",
       "      ├───┤       │              │              │              │                                                                        │  QFT† │ ║  ║  ║ └╥┘┌─┐         \n",
       " q_4: ┤ H ├───────┼──────────────┼──────────────┼──────────────┼──────────────■─────────────────────────────────────────────────────────┤4      ├─╫──╫──╫──╫─┤M├─────────\n",
       "      ├───┤       │              │              │              │              │                                                         │       │ ║  ║  ║  ║ └╥┘┌─┐      \n",
       " q_5: ┤ H ├───────┼──────────────┼──────────────┼──────────────┼──────────────┼───────────────■─────────────────────────────────────────┤5      ├─╫──╫──╫──╫──╫─┤M├──────\n",
       "      ├───┤       │              │              │              │              │               │                                         │       │ ║  ║  ║  ║  ║ └╥┘┌─┐   \n",
       " q_6: ┤ H ├───────┼──────────────┼──────────────┼──────────────┼──────────────┼───────────────┼───────────────■─────────────────────────┤6      ├─╫──╫──╫──╫──╫──╫─┤M├───\n",
       "      ├───┤       │              │              │              │              │               │               │                         │       │ ║  ║  ║  ║  ║  ║ └╥┘┌─┐\n",
       " q_7: ┤ H ├───────┼──────────────┼──────────────┼──────────────┼──────────────┼───────────────┼───────────────┼────────────────■────────┤7      ├─╫──╫──╫──╫──╫──╫──╫─┤M├\n",
       "      ├───┤┌──────┴──────┐┌──────┴──────┐┌──────┴──────┐┌──────┴──────┐┌──────┴───────┐┌──────┴───────┐┌──────┴───────┐┌───────┴───────┐└───────┘ ║  ║  ║  ║  ║  ║  ║ └╥┘\n",
       " q_8: ┤ X ├┤0            ├┤0            ├┤0            ├┤0            ├┤0             ├┤0             ├┤0             ├┤0              ├──────────╫──╫──╫──╫──╫──╫──╫──╫─\n",
       "      └───┘│             ││             ││             ││             ││              ││              ││              ││               │          ║  ║  ║  ║  ║  ║  ║  ║ \n",
       " q_9: ─────┤1            ├┤1            ├┤1            ├┤1            ├┤1             ├┤1             ├┤1             ├┤1              ├──────────╫──╫──╫──╫──╫──╫──╫──╫─\n",
       "           │  7^1 mod 15 ││  7^2 mod 15 ││  7^4 mod 15 ││  7^8 mod 15 ││  7^16 mod 15 ││  7^32 mod 15 ││  7^64 mod 15 ││  7^128 mod 15 │          ║  ║  ║  ║  ║  ║  ║  ║ \n",
       "q_10: ─────┤2            ├┤2            ├┤2            ├┤2            ├┤2             ├┤2             ├┤2             ├┤2              ├──────────╫──╫──╫──╫──╫──╫──╫──╫─\n",
       "           │             ││             ││             ││             ││              ││              ││              ││               │          ║  ║  ║  ║  ║  ║  ║  ║ \n",
       "q_11: ─────┤3            ├┤3            ├┤3            ├┤3            ├┤3             ├┤3             ├┤3             ├┤3              ├──────────╫──╫──╫──╫──╫──╫──╫──╫─\n",
       "           └─────────────┘└─────────────┘└─────────────┘└─────────────┘└──────────────┘└──────────────┘└──────────────┘└───────────────┘          ║  ║  ║  ║  ║  ║  ║  ║ \n",
       " c: 8/════════════════════════════════════════════════════════════════════════════════════════════════════════════════════════════════════════════╩══╩══╩══╩══╩══╩══╩══╩═\n",
       "                                                                                                                                                  0  1  2  3  4  5  6  7 "
      ]
     },
     "execution_count": 79,
     "metadata": {},
     "output_type": "execute_result"
    }
   ],
   "source": [
    "qc = QuantumCircuit(N_COUNT + 4, N_COUNT)\n",
    "for q in range(N_COUNT):\n",
    "    qc.h(q)\n",
    "qc.x(N_COUNT)\n",
    "for q in range(N_COUNT):\n",
    "    qc.append(c_amod15(a, 2**q),\n",
    "             [q] + [i+N_COUNT for i in range(4)])\n",
    "qc.append(qft_dagger(N_COUNT), range(N_COUNT))\n",
    "qc.measure(range(N_COUNT), range(N_COUNT))\n",
    "qc.draw(fold=-1,output='text',style='bw')  "
   ]
  },
  {
   "cell_type": "code",
   "execution_count": 80,
   "id": "225b9ad4-ce3f-49f6-b2d3-2344daa2b9ab",
   "metadata": {
    "tags": []
   },
   "outputs": [
    {
     "data": {
      "image/png": "[encoded data removed]",
      "text/plain": [
       "<Figure size 700x500 with 1 Axes>"
      ]
     },
     "execution_count": 80,
     "metadata": {},
     "output_type": "execute_result"
    }
   ],
   "source": [
    "aer_sim = qiskit_aer.Aer.get_backend('aer_simulator')\n",
    "t_qc = transpile(qc, aer_sim)\n",
    "counts = aer_sim.run(t_qc).result().get_counts()\n",
    "plot_histogram(counts)"
   ]
  },
  {
   "cell_type": "code",
   "execution_count": 81,
   "id": "6aaec9bb-cf95-4a4d-88b2-87dd4f4ab691",
   "metadata": {
    "tags": []
   },
   "outputs": [
    {
     "name": "stdout",
     "output_type": "stream",
     "text": [
      "            Register Output           Phase\n",
      "0  01000000(bin) =  64(dec)   64/256 = 0.25\n",
      "1  00000000(bin) =   0(dec)    0/256 = 0.00\n",
      "2  10000000(bin) = 128(dec)  128/256 = 0.50\n",
      "3  11000000(bin) = 192(dec)  192/256 = 0.75\n"
     ]
    }
   ],
   "source": [
    "rows, measured_phases = [], []\n",
    "for output in counts:\n",
    "    decimal = int(output, 2)  \n",
    "    phase = decimal/(2**N_COUNT)  \n",
    "    measured_phases.append(phase)\n",
    "    rows.append([f\"{output}(bin) = {decimal:>3}(dec)\",\n",
    "                 f\"{decimal}/{2**N_COUNT} = {phase:.2f}\"])\n",
    "headers=[\"Register Output\", \"Phase\"]\n",
    "df = pd.DataFrame(rows, columns=headers)\n",
    "print(df)"
   ]
  },
  {
   "cell_type": "code",
   "execution_count": 82,
   "id": "ea4dbcc2-40c5-442c-8c77-0aada99f2606",
   "metadata": {
    "tags": []
   },
   "outputs": [
    {
     "data": {
      "text/plain": [
       "Fraction(5998794703657501, 9007199254740992)"
      ]
     },
     "execution_count": 82,
     "metadata": {},
     "output_type": "execute_result"
    }
   ],
   "source": [
    "Fraction(0.666)"
   ]
  },
  {
   "cell_type": "code",
   "execution_count": 83,
   "id": "e4caa6e9-715e-4853-aef2-e96fd1509bfe",
   "metadata": {
    "tags": []
   },
   "outputs": [
    {
     "data": {
      "text/plain": [
       "Fraction(2, 3)"
      ]
     },
     "execution_count": 83,
     "metadata": {},
     "output_type": "execute_result"
    }
   ],
   "source": [
    "Fraction(0.666).limit_denominator(15)"
   ]
  },
  {
   "cell_type": "code",
   "execution_count": 84,
   "id": "088078c8-03a4-43f5-856c-f882d9cb35ac",
   "metadata": {
    "tags": []
   },
   "outputs": [
    {
     "name": "stdout",
     "output_type": "stream",
     "text": [
      "   Phase Fraction  Guess for r\n",
      "0   0.25      1/4            4\n",
      "1   0.00      0/1            1\n",
      "2   0.50      1/2            2\n",
      "3   0.75      3/4            4\n"
     ]
    }
   ],
   "source": [
    "rows = []\n",
    "for phase in measured_phases:\n",
    "    frac = Fraction(phase).limit_denominator(15)\n",
    "    rows.append([phase,\n",
    "                 f\"{frac.numerator}/{frac.denominator}\",\n",
    "                 frac.denominator])\n",
    "# Print as a table\n",
    "headers=[\"Phase\", \"Fraction\", \"Guess for r\"]\n",
    "df = pd.DataFrame(rows, columns=headers)\n",
    "print(df)"
   ]
  },
  {
   "cell_type": "code",
   "execution_count": 85,
   "id": "ae0b86ea-14a9-466a-9ad3-1b64d2564146",
   "metadata": {
    "tags": []
   },
   "outputs": [],
   "source": [
    "def a2jmodN(a, j, N):\n",
    "    for _ in range(j):\n",
    "        a = np.mod(a**2, N)\n",
    "    return a"
   ]
  },
  {
   "cell_type": "code",
   "execution_count": 86,
   "id": "b9bb1684-fa57-44c1-a52f-b3df7140e6ea",
   "metadata": {
    "tags": []
   },
   "outputs": [
    {
     "data": {
      "text/plain": [
       "47"
      ]
     },
     "execution_count": 86,
     "metadata": {},
     "output_type": "execute_result"
    }
   ],
   "source": [
    "a2jmodN(7, 2049, 53)"
   ]
  },
  {
   "cell_type": "code",
   "execution_count": 87,
   "id": "0a534068-49ba-4e36-8aab-9a9b9503cd48",
   "metadata": {
    "tags": []
   },
   "outputs": [],
   "source": [
    "N = 15"
   ]
  },
  {
   "cell_type": "code",
   "execution_count": 88,
   "id": "c0ed94ba-0884-4c2b-9ff3-bea737f47eda",
   "metadata": {
    "tags": []
   },
   "outputs": [
    {
     "name": "stdout",
     "output_type": "stream",
     "text": [
      "7\n"
     ]
    }
   ],
   "source": [
    "np.random.seed(1)\n",
    "a = randint(2, 15)\n",
    "print(a)"
   ]
  },
  {
   "cell_type": "code",
   "execution_count": 89,
   "id": "247fa971-6659-4cb8-8fbc-7c9e6730cc74",
   "metadata": {
    "tags": []
   },
   "outputs": [
    {
     "data": {
      "text/plain": [
       "1"
      ]
     },
     "execution_count": 89,
     "metadata": {},
     "output_type": "execute_result"
    }
   ],
   "source": [
    "from math import gcd \n",
    "gcd(a, N)"
   ]
  },
  {
   "cell_type": "code",
   "execution_count": 90,
   "id": "62dc170e-7024-4082-b35c-175f7d26b991",
   "metadata": {
    "tags": []
   },
   "outputs": [],
   "source": [
    "def qpe_amod15(a):\n",
    "    N_COUNT = 8\n",
    "    qc = QuantumCircuit(4+N_COUNT, N_COUNT)\n",
    "    for q in range(N_COUNT):\n",
    "        qc.h(q)    \n",
    "    qc.x(N_COUNT)\n",
    "    for q in range(N_COUNT): \n",
    "        qc.append(c_amod15(a, 2**q),\n",
    "                 [q] + [i+N_COUNT for i in range(4)])\n",
    "    qc.append(qft_dagger(N_COUNT), range(N_COUNT))\n",
    "    qc.measure(range(N_COUNT), range(N_COUNT))\n",
    "    aer_sim = qiskit_aer.Aer.get_backend('aer_simulator')\n",
    "    job = aer_sim.run(transpile(qc, aer_sim), shots=1, memory=True)\n",
    "    readings = job.result().get_memory()\n",
    "    print(\"Register Reading: \" + readings[0])\n",
    "    phase = int(readings[0],2)/(2**N_COUNT)\n",
    "    print(f\"Corresponding Phase: {phase}\")\n",
    "    return phase"
   ]
  },
  {
   "cell_type": "code",
   "execution_count": 91,
   "id": "c460b574-dec9-4c95-aa4a-f714c20e97a8",
   "metadata": {
    "tags": []
   },
   "outputs": [
    {
     "name": "stdout",
     "output_type": "stream",
     "text": [
      "Register Reading: 10000000\n",
      "Corresponding Phase: 0.5\n"
     ]
    },
    {
     "data": {
      "text/plain": [
       "Fraction(1, 2)"
      ]
     },
     "execution_count": 91,
     "metadata": {},
     "output_type": "execute_result"
    }
   ],
   "source": [
    "phase = qpe_amod15(a) \n",
    "Fraction(phase).limit_denominator(15)"
   ]
  },
  {
   "cell_type": "code",
   "execution_count": 92,
   "id": "4a7849cf-1efe-4752-93eb-03c7453cf1c5",
   "metadata": {
    "tags": []
   },
   "outputs": [
    {
     "name": "stdout",
     "output_type": "stream",
     "text": [
      "2\n"
     ]
    }
   ],
   "source": [
    "frac = Fraction(phase).limit_denominator(15)\n",
    "s, r = frac.numerator, frac.denominator\n",
    "print(r)"
   ]
  },
  {
   "cell_type": "code",
   "execution_count": 93,
   "id": "349c7c05-8698-47d7-bdd9-ff9a87753350",
   "metadata": {
    "tags": []
   },
   "outputs": [
    {
     "name": "stdout",
     "output_type": "stream",
     "text": [
      "[3, 1]\n"
     ]
    }
   ],
   "source": [
    "guesses = [gcd(a**(r//2)-1, N), gcd(a**(r//2)+1, N)]\n",
    "print(guesses)"
   ]
  },
  {
   "cell_type": "code",
   "execution_count": 94,
   "id": "1085e2ce-25da-4598-bb4c-f76fcb0b8d51",
   "metadata": {
    "tags": []
   },
   "outputs": [
    {
     "name": "stdout",
     "output_type": "stream",
     "text": [
      "\n",
      "ATTEMPT 1:\n",
      "Register Reading: 10000000\n",
      "Corresponding Phase: 0.5\n",
      "Result: r = 2\n",
      "Guessed Factors: 3 and 1\n",
      "*** Non-trivial factor found: 3 ***\n"
     ]
    }
   ],
   "source": [
    "FACTOR_FOUND = False\n",
    "ATTEMPT = 0\n",
    "while not FACTOR_FOUND:\n",
    "    ATTEMPT += 1\n",
    "    print(f\"\\nATTEMPT {ATTEMPT}:\")\n",
    "    phase = qpe_amod15(a)\n",
    "    frac = Fraction(phase).limit_denominator(N)\n",
    "    r = frac.denominator\n",
    "    print(f\"Result: r = {r}\")\n",
    "    if phase != 0:\n",
    "        guesses = [gcd(a**(r//2)-1, N), gcd(a**(r//2)+1, N)]\n",
    "        print(f\"Guessed Factors: {guesses[0]} and {guesses[1]}\")\n",
    "        for guess in guesses:\n",
    "            if guess not in [1,N] and (N % guess) == 0:\n",
    "                print(f\"*** Non-trivial factor found: {guess} ***\")\n",
    "                FACTOR_FOUND = True"
   ]
  },
  {
   "cell_type": "raw",
   "id": "cc8dc5de-9af1-4ad0-b15a-3bee5e226ae6",
   "metadata": {
    "tags": []
   },
   "source": [
    "V] Grover's Algorithm(A brief):\n",
    "---------------------------------\n",
    "Problem: The classical problem of searching an unsorted database with N items typically requires \n",
    "O(N) queries. Grover's algorithm aims to perform this search with only O(N*0.5)\n",
    " queries, providing a quadratic speedup.\n",
    "Quantum Oracle: Grover's algorithm uses a quantum oracle, which is a black box function that marks the desired solution(s). The oracle reflects the input states corresponding to the marked solution(s) about the average state.\n",
    "Amplitude Amplification: The core of Grover's algorithm is amplitude amplification, a technique that increases the amplitude of the marked states and decreases the amplitude of the unmarked states. This amplification process is performed iteratively to enhance the probability of measuring a marked state."
   ]
  },
  {
   "cell_type": "code",
   "execution_count": 95,
   "id": "7ad3ceb7-f687-4495-b7fd-aac47a23e413",
   "metadata": {
    "tags": []
   },
   "outputs": [],
   "source": [
    "import matplotlib.pyplot as plt\n",
    "import numpy as np\n",
    "import math\n",
    "from qiskit import transpile\n",
    "from qiskit import QuantumCircuit, ClassicalRegister, QuantumRegister\n",
    "import qiskit_aer\n",
    "from qiskit.visualization import plot_histogram"
   ]
  },
  {
   "cell_type": "code",
   "execution_count": 96,
   "id": "0f6950fe-9c40-426b-9b6e-c4aaa13dd096",
   "metadata": {
    "tags": []
   },
   "outputs": [],
   "source": [
    "n = 2\n",
    "grover_circuit = QuantumCircuit(n)"
   ]
  },
  {
   "cell_type": "code",
   "execution_count": 97,
   "id": "0c31b1e3-645d-436d-8b14-89dd3b2380b6",
   "metadata": {
    "tags": []
   },
   "outputs": [],
   "source": [
    "def initialize_s(qc, qubits):\n",
    "    for q in qubits:\n",
    "        qc.h(q)\n",
    "    return qc"
   ]
  },
  {
   "cell_type": "code",
   "execution_count": 98,
   "id": "c4ada984-2548-4143-9a27-b3785fd098da",
   "metadata": {
    "tags": []
   },
   "outputs": [
    {
     "data": {
      "text/html": [
       "<pre style=\"word-wrap: normal;white-space: pre;background: #fff0;line-height: 1.1;font-family: &quot;Courier New&quot;,Courier,monospace\">     ┌───┐\n",
       "q_0: ┤ H ├\n",
       "     ├───┤\n",
       "q_1: ┤ H ├\n",
       "     └───┘</pre>"
      ],
      "text/plain": [
       "     ┌───┐\n",
       "q_0: ┤ H ├\n",
       "     ├───┤\n",
       "q_1: ┤ H ├\n",
       "     └───┘"
      ]
     },
     "execution_count": 98,
     "metadata": {},
     "output_type": "execute_result"
    }
   ],
   "source": [
    "grover_circuit = initialize_s(grover_circuit, [0,1])\n",
    "grover_circuit.draw(output='text',style='bw')"
   ]
  },
  {
   "cell_type": "code",
   "execution_count": 99,
   "id": "7432f715-ebcc-4e02-881c-eb4c7396f646",
   "metadata": {
    "tags": []
   },
   "outputs": [
    {
     "data": {
      "text/html": [
       "<pre style=\"word-wrap: normal;white-space: pre;background: #fff0;line-height: 1.1;font-family: &quot;Courier New&quot;,Courier,monospace\">     ┌───┐   \n",
       "q_0: ┤ H ├─■─\n",
       "     ├───┤ │ \n",
       "q_1: ┤ H ├─■─\n",
       "     └───┘   </pre>"
      ],
      "text/plain": [
       "     ┌───┐   \n",
       "q_0: ┤ H ├─■─\n",
       "     ├───┤ │ \n",
       "q_1: ┤ H ├─■─\n",
       "     └───┘   "
      ]
     },
     "execution_count": 99,
     "metadata": {},
     "output_type": "execute_result"
    }
   ],
   "source": [
    "grover_circuit.cz(0,1) \n",
    "grover_circuit.draw(output='text',style='bw')"
   ]
  },
  {
   "cell_type": "code",
   "execution_count": 100,
   "id": "544d8a49-89dc-44c6-a005-9cf7067e2bf0",
   "metadata": {
    "tags": []
   },
   "outputs": [
    {
     "data": {
      "text/html": [
       "<pre style=\"word-wrap: normal;white-space: pre;background: #fff0;line-height: 1.1;font-family: &quot;Courier New&quot;,Courier,monospace\">     ┌───┐   ┌───┐┌───┐   ┌───┐\n",
       "q_0: ┤ H ├─■─┤ H ├┤ Z ├─■─┤ H ├\n",
       "     ├───┤ │ ├───┤├───┤ │ ├───┤\n",
       "q_1: ┤ H ├─■─┤ H ├┤ Z ├─■─┤ H ├\n",
       "     └───┘   └───┘└───┘   └───┘</pre>"
      ],
      "text/plain": [
       "     ┌───┐   ┌───┐┌───┐   ┌───┐\n",
       "q_0: ┤ H ├─■─┤ H ├┤ Z ├─■─┤ H ├\n",
       "     ├───┤ │ ├───┤├───┤ │ ├───┤\n",
       "q_1: ┤ H ├─■─┤ H ├┤ Z ├─■─┤ H ├\n",
       "     └───┘   └───┘└───┘   └───┘"
      ]
     },
     "execution_count": 100,
     "metadata": {},
     "output_type": "execute_result"
    }
   ],
   "source": [
    "grover_circuit.h([0,1])\n",
    "grover_circuit.z([0,1])\n",
    "grover_circuit.cz(0,1)\n",
    "grover_circuit.h([0,1])\n",
    "grover_circuit.draw(output='text',style='bw')"
   ]
  },
  {
   "cell_type": "code",
   "execution_count": 101,
   "id": "710cf07d-2e51-4f01-9ec0-c2fb315d80a2",
   "metadata": {
    "tags": []
   },
   "outputs": [
    {
     "data": {
      "text/latex": [
       "$$\n",
       "|\\psi\\rangle =\n",
       "\\begin{bmatrix}\n",
       "0 & 0 & 0 & 1  \\\\\n",
       " \\end{bmatrix}\n",
       "$$"
      ],
      "text/plain": [
       "<IPython.core.display.Latex object>"
      ]
     },
     "execution_count": 101,
     "metadata": {},
     "output_type": "execute_result"
    }
   ],
   "source": [
    "sv_sim = qiskit_aer.Aer.get_backend('statevector_simulator')\n",
    "result = sv_sim.run(grover_circuit).result()\n",
    "statevec = result.get_statevector()\n",
    "from qiskit.visualization import array_to_latex\n",
    "array_to_latex(statevec, prefix=\"|\\\\psi\\\\rangle =\")"
   ]
  },
  {
   "cell_type": "code",
   "execution_count": 102,
   "id": "2e6e33ed-64d9-483d-8b77-9aeede037640",
   "metadata": {
    "tags": []
   },
   "outputs": [
    {
     "data": {
      "image/png": "[encoded data removed]",
      "text/plain": [
       "<Figure size 700x500 with 1 Axes>"
      ]
     },
     "execution_count": 102,
     "metadata": {},
     "output_type": "execute_result"
    }
   ],
   "source": [
    "grover_circuit.measure_all()\n",
    "qasm_sim = qiskit_aer.Aer.get_backend('qasm_simulator')\n",
    "result = qasm_sim.run(grover_circuit).result()\n",
    "counts = result.get_counts()\n",
    "plot_histogram(counts)"
   ]
  },
  {
   "cell_type": "code",
   "execution_count": null,
   "id": "d6faf3bb",
   "metadata": {},
   "outputs": [],
   "source": []
  },
  {
   "cell_type": "code",
   "execution_count": 103,
   "id": "cb922779-66af-449c-bdea-1ade29512021",
   "metadata": {
    "tags": []
   },
   "outputs": [],
   "source": [
    "qc = QuantumCircuit(3)\n",
    "qc.cz(0, 2)\n",
    "qc.cz(1, 2)\n",
    "oracle_ex3 = qc.to_gate()\n",
    "oracle_ex3.name = \"U$_\\omega$\""
   ]
  },
  {
   "cell_type": "code",
   "execution_count": 104,
   "id": "2f17e3e9-d232-4a0d-b902-e60d2dfd9b0c",
   "metadata": {
    "tags": []
   },
   "outputs": [],
   "source": [
    "def diffuser(nqubits):\n",
    "    qc = QuantumCircuit(nqubits)\n",
    "    for qubit in range(nqubits):\n",
    "        qc.h(qubit)\n",
    "    for qubit in range(nqubits):\n",
    "        qc.x(qubit)\n",
    "    qc.h(nqubits-1)\n",
    "    qc.mcx(list(range(nqubits-1)), nqubits-1)\n",
    "    qc.h(nqubits-1)\n",
    "    for qubit in range(nqubits):\n",
    "        qc.x(qubit)\n",
    "    for qubit in range(nqubits):\n",
    "        qc.h(qubit)\n",
    "    U_s = qc.to_gate()\n",
    "    U_s.name = \"U$_s$\"\n",
    "    return U_s"
   ]
  },
  {
   "cell_type": "code",
   "execution_count": 107,
   "id": "a66eaec3-7cf5-4038-9b0f-1cec89649eb3",
   "metadata": {
    "tags": []
   },
   "outputs": [
    {
     "data": {
      "text/html": [
       "<pre style=\"word-wrap: normal;white-space: pre;background: #fff0;line-height: 1.1;font-family: &quot;Courier New&quot;,Courier,monospace\">        ┌───┐┌─────────────┐┌────────┐ ░ ┌─┐      \n",
       "   q_0: ┤ H ├┤0            ├┤0       ├─░─┤M├──────\n",
       "        ├───┤│             ││        │ ░ └╥┘┌─┐   \n",
       "   q_1: ┤ H ├┤1 U$_\\omega$ ├┤1 U$_s$ ├─░──╫─┤M├───\n",
       "        ├───┤│             ││        │ ░  ║ └╥┘┌─┐\n",
       "   q_2: ┤ H ├┤2            ├┤2       ├─░──╫──╫─┤M├\n",
       "        └───┘└─────────────┘└────────┘ ░  ║  ║ └╥┘\n",
       "meas: 3/══════════════════════════════════╩══╩══╩═\n",
       "                                          0  1  2 </pre>"
      ],
      "text/plain": [
       "        ┌───┐┌─────────────┐┌────────┐ ░ ┌─┐      \n",
       "   q_0: ┤ H ├┤0            ├┤0       ├─░─┤M├──────\n",
       "        ├───┤│             ││        │ ░ └╥┘┌─┐   \n",
       "   q_1: ┤ H ├┤1 U$_\\omega$ ├┤1 U$_s$ ├─░──╫─┤M├───\n",
       "        ├───┤│             ││        │ ░  ║ └╥┘┌─┐\n",
       "   q_2: ┤ H ├┤2            ├┤2       ├─░──╫──╫─┤M├\n",
       "        └───┘└─────────────┘└────────┘ ░  ║  ║ └╥┘\n",
       "meas: 3/══════════════════════════════════╩══╩══╩═\n",
       "                                          0  1  2 "
      ]
     },
     "execution_count": 107,
     "metadata": {},
     "output_type": "execute_result"
    }
   ],
   "source": [
    "n = 3\n",
    "grover_circuit = QuantumCircuit(n)\n",
    "grover_circuit = initialize_s(grover_circuit, [0,1,2])\n",
    "grover_circuit.append(oracle_ex3, [0,1,2])\n",
    "grover_circuit.append(diffuser(n), [0,1,2])\n",
    "grover_circuit.measure_all()\n",
    "grover_circuit.draw(output='text',style='bw')"
   ]
  },
  {
   "cell_type": "code",
   "execution_count": 106,
   "id": "623f5d34-8213-4abe-9ac5-55c3d13bf127",
   "metadata": {
    "tags": []
   },
   "outputs": [
    {
     "data": {
      "image/png": "[encoded data removed]",
      "text/plain": [
       "<Figure size 700x500 with 1 Axes>"
      ]
     },
     "execution_count": 106,
     "metadata": {},
     "output_type": "execute_result"
    }
   ],
   "source": [
    "qasm_sim = qiskit_aer.Aer.get_backend('qasm_simulator')\n",
    "transpiled_grover_circuit = transpile(grover_circuit, qasm_sim)\n",
    "results = qasm_sim.run(transpiled_grover_circuit).result()\n",
    "counts = results.get_counts()\n",
    "plot_histogram(counts)"
   ]
  },
  {
   "cell_type": "code",
   "execution_count": null,
   "id": "86f252fe",
   "metadata": {},
   "outputs": [],
   "source": [
    "# oracle for '101':\n",
    "from qiskit import QuantumRegister, ClassicalRegister, QuantumCircuit\n",
    "from numpy import pi\n",
    "\n",
    "qreg_q = QuantumRegister(4, 'q')\n",
    "creg_c = ClassicalRegister(4, 'c')\n",
    "circuit = QuantumCircuit(qreg_q, creg_c)\n",
    "\n",
    "circuit.x(qreg_q[1])\n",
    "circuit.ccx(qreg_q[0], qreg_q[1], qreg_q[2])\n",
    "circuit.ccx(qreg_q[1], qreg_q[2], qreg_q[3])\n",
    "circuit.x(qreg_q[1])\n",
    "circuit.measure(qreg_q[3], creg_c[3])"
   ]
  },
  {
   "attachments": {
    "image.png": {
     "image/png": "[encoded data removed]"
    }
   },
   "cell_type": "markdown",
   "id": "a8137256",
   "metadata": {},
   "source": [
    "![image.png](attachment:image.png)"
   ]
  },
  {
   "cell_type": "raw",
   "id": "7e17c16a-c470-4d2f-8737-f8a0139f99cd",
   "metadata": {
    "tags": []
   },
   "source": [
    "VI] BB84 algorithm:\n",
    "---------------------\n",
    "Problem: The classical problem of securely distributing cryptographic keys over an insecure channel is susceptible to eavesdropping, interception, and manipulation. The BB84 protocol aims to overcome these issues using the principles of quantum mechanics.\n",
    "Quantum Properties: The security of the BB84 protocol relies on two fundamental properties of quantum mechanics:\n",
    "Superposition: Quantum bits (qubits) can exist in multiple states simultaneously, enabling the transmission of information in a superposition of states.\n",
    "Uncertainty Principle: Measurement of a quantum state disturbs the state, making it impossible to measure the complete information of a qubit without disturbing it.\n",
    "Key Steps:\n",
    "Step 1: Key Generation: Alice prepares a random sequence of qubits, encoding each qubit in one of two bases (typically the computational basis \n",
    "∣0⟩ and ∣1⟩, or the Hadamard basis ∣+⟩ and ∣−⟩).\n",
    "Step 2: Transmission: Alice sends the encoded qubits to Bob over the quantum channel. Due to the uncertainty principle, an eavesdropper (traditionally named Eve) cannot measure the complete information of a qubit without disturbing it.\n",
    "Step 3: Measurement: Upon receiving the qubits, Bob randomly selects a basis for each qubit and measures it accordingly.\n",
    "Step 4: Error Correction: Alice and Bob publicly announce the bases used for each qubit. They discard qubits measured in different bases and use the remaining qubits to generate a preliminary key.\n",
    "Step 5: Privacy Amplification: To ensure security against eavesdropping, Alice and Bob perform privacy amplification techniques (such as hash functions) to distill a final secret key from the preliminary key.\n",
    "Security: The security of the BB84 protocol relies on the principles of quantum mechanics. Any attempt by Eve to intercept or measure the qubits will inevitably introduce errors, which can be detected by Alice and Bob during the key reconciliation phase.\n",
    "    "
   ]
  },
  {
   "cell_type": "code",
   "execution_count": 108,
   "id": "0c532780-cc0d-487d-80cc-2018e758aa98",
   "metadata": {
    "tags": []
   },
   "outputs": [],
   "source": [
    "from qiskit import QuantumCircuit, transpile\n",
    "import qiskit_aer\n",
    "from qiskit.visualization import plot_histogram, plot_bloch_multivector\n",
    "from numpy.random import randint\n",
    "import numpy as np"
   ]
  },
  {
   "cell_type": "code",
   "execution_count": 109,
   "id": "ea1a22ea-9e40-4293-914b-38424dac522a",
   "metadata": {
    "tags": []
   },
   "outputs": [
    {
     "data": {
      "text/html": [
       "<pre style=\"word-wrap: normal;white-space: pre;background: #fff0;line-height: 1.1;font-family: &quot;Courier New&quot;,Courier,monospace\">     ┌───┐ ░ ┌───┐┌─┐\n",
       "  q: ┤ H ├─░─┤ H ├┤M├\n",
       "     └───┘ ░ └───┘└╥┘\n",
       "c: 1/══════════════╩═\n",
       "                   0 </pre>"
      ],
      "text/plain": [
       "     ┌───┐ ░ ┌───┐┌─┐\n",
       "  q: ┤ H ├─░─┤ H ├┤M├\n",
       "     └───┘ ░ └───┘└╥┘\n",
       "c: 1/══════════════╩═\n",
       "                   0 "
      ]
     },
     "metadata": {},
     "output_type": "display_data"
    },
    {
     "data": {
      "image/png": "[encoded data removed]",
      "text/plain": [
       "<Figure size 700x500 with 1 Axes>"
      ]
     },
     "execution_count": 109,
     "metadata": {},
     "output_type": "execute_result"
    }
   ],
   "source": [
    "qc = QuantumCircuit(1,1)\n",
    "qc.h(0)\n",
    "qc.barrier()\n",
    "qc.h(0)\n",
    "qc.measure(0,0)\n",
    "display(qc.draw(output='text',style='bw'))\n",
    "aer_sim = qiskit_aer.Aer.get_backend('aer_simulator')\n",
    "job = aer_sim.run(qc)\n",
    "plot_histogram(job.result().get_counts())"
   ]
  },
  {
   "cell_type": "code",
   "execution_count": 110,
   "id": "bbb1873d-8c4e-48bc-9a66-56dfc651b73d",
   "metadata": {
    "tags": []
   },
   "outputs": [
    {
     "data": {
      "text/html": [
       "<pre style=\"word-wrap: normal;white-space: pre;background: #fff0;line-height: 1.1;font-family: &quot;Courier New&quot;,Courier,monospace\">     ┌───┐┌─┐ ░ ┌───┐┌─┐\n",
       "  q: ┤ H ├┤M├─░─┤ H ├┤M├\n",
       "     └───┘└╥┘ ░ └───┘└╥┘\n",
       "c: 1/══════╩══════════╩═\n",
       "           0          0 </pre>"
      ],
      "text/plain": [
       "     ┌───┐┌─┐ ░ ┌───┐┌─┐\n",
       "  q: ┤ H ├┤M├─░─┤ H ├┤M├\n",
       "     └───┘└╥┘ ░ └───┘└╥┘\n",
       "c: 1/══════╩══════════╩═\n",
       "           0          0 "
      ]
     },
     "metadata": {},
     "output_type": "display_data"
    },
    {
     "data": {
      "image/png": "[encoded data removed]",
      "text/plain": [
       "<Figure size 700x500 with 1 Axes>"
      ]
     },
     "execution_count": 110,
     "metadata": {},
     "output_type": "execute_result"
    }
   ],
   "source": [
    "qc = QuantumCircuit(1,1)\n",
    "qc.h(0)\n",
    "qc.measure(0, 0)\n",
    "qc.barrier()\n",
    "qc.h(0)\n",
    "qc.measure(0,0)\n",
    "display(qc.draw(output='text',style='bw'))\n",
    "aer_sim = qiskit_aer.Aer.get_backend('aer_simulator')\n",
    "job = aer_sim.run(qc)\n",
    "plot_histogram(job.result().get_counts())"
   ]
  },
  {
   "cell_type": "code",
   "execution_count": 111,
   "id": "c8df5778-7fc3-46ea-a295-3da7d999b84b",
   "metadata": {
    "tags": []
   },
   "outputs": [],
   "source": [
    "np.random.seed(seed=0)"
   ]
  },
  {
   "cell_type": "code",
   "execution_count": 112,
   "id": "2d4f178b-8867-4399-935d-5c97f23194f9",
   "metadata": {
    "tags": []
   },
   "outputs": [],
   "source": [
    "n = 100"
   ]
  },
  {
   "cell_type": "code",
   "execution_count": 113,
   "id": "e752e037-4f8a-42ff-952c-872aa0b82db0",
   "metadata": {
    "tags": []
   },
   "outputs": [
    {
     "name": "stdout",
     "output_type": "stream",
     "text": [
      "[0 1 1 0 1 1 1 1 1 1 1 0 0 1 0 0 0 0 0 1 0 1 1 0 0 1 1 1 1 0 1 0 1 0 1 1 0\n",
      " 1 1 0 0 1 0 1 1 1 1 1 0 1 0 1 1 1 1 0 1 0 0 1 1 0 1 0 1 0 0 0 0 0 1 1 0 0\n",
      " 0 1 1 0 1 0 0 1 0 1 1 1 1 1 1 0 1 1 0 0 1 0 0 1 1 0]\n"
     ]
    }
   ],
   "source": [
    "np.random.seed(seed=0)\n",
    "n = 100\n",
    "alice_bits = randint(2, size=n)\n",
    "print(alice_bits)"
   ]
  },
  {
   "cell_type": "code",
   "execution_count": 114,
   "id": "a9d79494-6b3e-440e-82dc-dff7eeee5ce2",
   "metadata": {
    "tags": []
   },
   "outputs": [
    {
     "name": "stdout",
     "output_type": "stream",
     "text": [
      "[1 0 0 1 0 0 0 1 1 0 1 0 0 0 0 0 1 0 1 0 1 1 1 1 1 0 1 1 1 1 0 1 1 0 0 1 0\n",
      " 0 0 0 1 1 0 0 1 0 1 1 1 1 0 0 0 1 0 1 1 1 0 1 0 0 1 0 1 1 0 0 1 0 1 0 1 0\n",
      " 1 0 1 0 0 0 1 0 1 0 1 0 0 0 0 0 1 0 0 1 0 0 0 1 0 0]\n"
     ]
    }
   ],
   "source": [
    "np.random.seed(seed=0)\n",
    "n = 100\n",
    "alice_bits = randint(2, size=n)\n",
    "alice_bases = randint(2, size=n)\n",
    "print(alice_bases)"
   ]
  },
  {
   "cell_type": "code",
   "execution_count": 115,
   "id": "3e050dd4-fdc1-45df-aad0-a28532779225",
   "metadata": {
    "tags": []
   },
   "outputs": [],
   "source": [
    "def encode_message(bits, bases):\n",
    "    message = []\n",
    "    for i in range(n):\n",
    "        qc = QuantumCircuit(1,1)\n",
    "        if bases[i] == 0:\n",
    "            if bits[i] == 0:\n",
    "                pass \n",
    "            else:\n",
    "                qc.x(0)\n",
    "        else: \n",
    "            if bits[i] == 0:\n",
    "                qc.h(0)\n",
    "            else:\n",
    "                qc.x(0)\n",
    "                qc.h(0)\n",
    "        qc.barrier()\n",
    "        message.append(qc)\n",
    "    return message"
   ]
  },
  {
   "cell_type": "code",
   "execution_count": 116,
   "id": "9bd8209e-97a9-4b8c-8053-9b421e6abc94",
   "metadata": {
    "tags": []
   },
   "outputs": [],
   "source": [
    "np.random.seed(seed=0)\n",
    "n = 100\n",
    "alice_bits = randint(2, size=n)\n",
    "alice_bases = randint(2, size=n)\n",
    "message = encode_message(alice_bits, alice_bases)"
   ]
  },
  {
   "cell_type": "code",
   "execution_count": 117,
   "id": "1c5d1d91-fbc4-49b1-b2fc-9ce5d4b0bd14",
   "metadata": {
    "tags": []
   },
   "outputs": [
    {
     "name": "stdout",
     "output_type": "stream",
     "text": [
      "bit = 0\n",
      "basis = 1\n"
     ]
    }
   ],
   "source": [
    "print('bit = %i' % alice_bits[0])\n",
    "print('basis = %i' % alice_bases[0])"
   ]
  },
  {
   "cell_type": "code",
   "execution_count": 118,
   "id": "286c446d-c3d5-41d9-94b1-820f6054e82f",
   "metadata": {
    "tags": []
   },
   "outputs": [
    {
     "data": {
      "text/html": [
       "<pre style=\"word-wrap: normal;white-space: pre;background: #fff0;line-height: 1.1;font-family: &quot;Courier New&quot;,Courier,monospace\">     ┌───┐ ░ \n",
       "  q: ┤ H ├─░─\n",
       "     └───┘ ░ \n",
       "c: 1/════════\n",
       "             </pre>"
      ],
      "text/plain": [
       "     ┌───┐ ░ \n",
       "  q: ┤ H ├─░─\n",
       "     └───┘ ░ \n",
       "c: 1/════════\n",
       "             "
      ]
     },
     "execution_count": 118,
     "metadata": {},
     "output_type": "execute_result"
    }
   ],
   "source": [
    "message[0].draw(output='text',style='bw')"
   ]
  },
  {
   "cell_type": "code",
   "execution_count": 119,
   "id": "9f938bd3-082c-47fc-a285-53f8570a6551",
   "metadata": {
    "tags": []
   },
   "outputs": [
    {
     "name": "stdout",
     "output_type": "stream",
     "text": [
      "bit = 1\n",
      "basis = 0\n"
     ]
    },
    {
     "data": {
      "text/html": [
       "<pre style=\"word-wrap: normal;white-space: pre;background: #fff0;line-height: 1.1;font-family: &quot;Courier New&quot;,Courier,monospace\">     ┌───┐ ░ \n",
       "  q: ┤ X ├─░─\n",
       "     └───┘ ░ \n",
       "c: 1/════════\n",
       "             </pre>"
      ],
      "text/plain": [
       "     ┌───┐ ░ \n",
       "  q: ┤ X ├─░─\n",
       "     └───┘ ░ \n",
       "c: 1/════════\n",
       "             "
      ]
     },
     "execution_count": 119,
     "metadata": {},
     "output_type": "execute_result"
    }
   ],
   "source": [
    "print('bit = %i' % alice_bits[4])\n",
    "print('basis = %i' % alice_bases[4])\n",
    "message[4].draw(output='text',style='bw')"
   ]
  },
  {
   "cell_type": "code",
   "execution_count": 120,
   "id": "c84f0515-182d-4327-9662-f8bed72a2d01",
   "metadata": {
    "tags": []
   },
   "outputs": [
    {
     "name": "stdout",
     "output_type": "stream",
     "text": [
      "[1 0 1 0 0 1 1 0 0 0 1 1 0 0 0 0 0 1 0 1 0 0 0 1 1 1 0 0 1 1 1 1 0 0 0 1 1\n",
      " 0 1 0 0 1 0 1 1 1 1 0 0 0 1 1 1 0 1 1 1 1 0 0 1 1 0 0 0 1 1 0 1 1 1 1 1 0\n",
      " 0 0 1 0 1 0 1 1 0 0 0 1 0 0 1 1 1 1 0 1 0 0 0 0 1 1]\n"
     ]
    }
   ],
   "source": [
    "np.random.seed(seed=0)\n",
    "n = 100\n",
    "alice_bits = randint(2, size=n)\n",
    "alice_bases = randint(2, size=n)\n",
    "message = encode_message(alice_bits, alice_bases)\n",
    "bob_bases = randint(2, size=n)\n",
    "print(bob_bases)"
   ]
  },
  {
   "cell_type": "code",
   "execution_count": 121,
   "id": "41f21d9e-440d-4ba3-8f67-6a52d927777d",
   "metadata": {
    "tags": []
   },
   "outputs": [],
   "source": [
    "def measure_message(message, bases):\n",
    "    backend = qiskit_aer.Aer.get_backend('aer_simulator')\n",
    "    measurements = []\n",
    "    for q in range(n):\n",
    "        if bases[q] == 0: \n",
    "            message[q].measure(0,0)\n",
    "        if bases[q] == 1: \n",
    "            message[q].h(0)\n",
    "            message[q].measure(0,0)\n",
    "        aer_sim = qiskit_aer.Aer.get_backend('aer_simulator')\n",
    "        result = aer_sim.run(message[q], shots=1, memory=True).result()\n",
    "        measured_bit = int(result.get_memory()[0])\n",
    "        measurements.append(measured_bit)\n",
    "    return measurements"
   ]
  },
  {
   "cell_type": "code",
   "execution_count": 122,
   "id": "270a0cb4-21d5-421b-b792-5657211a258d",
   "metadata": {
    "tags": []
   },
   "outputs": [],
   "source": [
    "np.random.seed(seed=0)\n",
    "n = 100\n",
    "alice_bits = randint(2, size=n)\n",
    "alice_bases = randint(2, size=n)\n",
    "message = encode_message(alice_bits, alice_bases)\n",
    "bob_bases = randint(2, size=n)\n",
    "bob_results = measure_message(message, bob_bases)"
   ]
  },
  {
   "cell_type": "code",
   "execution_count": 123,
   "id": "7d9328b6-8e29-4ec1-8409-0a60211b174f",
   "metadata": {
    "tags": []
   },
   "outputs": [
    {
     "data": {
      "text/html": [
       "<pre style=\"word-wrap: normal;white-space: pre;background: #fff0;line-height: 1.1;font-family: &quot;Courier New&quot;,Courier,monospace\">     ┌───┐ ░ ┌───┐┌─┐\n",
       "  q: ┤ H ├─░─┤ H ├┤M├\n",
       "     └───┘ ░ └───┘└╥┘\n",
       "c: 1/══════════════╩═\n",
       "                   0 </pre>"
      ],
      "text/plain": [
       "     ┌───┐ ░ ┌───┐┌─┐\n",
       "  q: ┤ H ├─░─┤ H ├┤M├\n",
       "     └───┘ ░ └───┘└╥┘\n",
       "c: 1/══════════════╩═\n",
       "                   0 "
      ]
     },
     "execution_count": 123,
     "metadata": {},
     "output_type": "execute_result"
    }
   ],
   "source": [
    "message[0].draw(output='text',style='bw')"
   ]
  },
  {
   "cell_type": "code",
   "execution_count": 124,
   "id": "8f466331-e5d2-4094-851a-1299a96cb1a8",
   "metadata": {
    "tags": []
   },
   "outputs": [
    {
     "data": {
      "text/html": [
       "<pre style=\"word-wrap: normal;white-space: pre;background: #fff0;line-height: 1.1;font-family: &quot;Courier New&quot;,Courier,monospace\">     ┌───┐ ░ ┌───┐┌─┐\n",
       "  q: ┤ X ├─░─┤ H ├┤M├\n",
       "     └───┘ ░ └───┘└╥┘\n",
       "c: 1/══════════════╩═\n",
       "                   0 </pre>"
      ],
      "text/plain": [
       "     ┌───┐ ░ ┌───┐┌─┐\n",
       "  q: ┤ X ├─░─┤ H ├┤M├\n",
       "     └───┘ ░ └───┘└╥┘\n",
       "c: 1/══════════════╩═\n",
       "                   0 "
      ]
     },
     "execution_count": 124,
     "metadata": {},
     "output_type": "execute_result"
    }
   ],
   "source": [
    "message[6].draw(output='text',style='bw')"
   ]
  },
  {
   "cell_type": "code",
   "execution_count": 125,
   "id": "fd711b25-cb7c-4b11-92eb-94b4f572e4f6",
   "metadata": {
    "tags": []
   },
   "outputs": [
    {
     "name": "stdout",
     "output_type": "stream",
     "text": [
      "[0, 1, 1, 1, 1, 1, 0, 1, 1, 1, 1, 1, 0, 1, 0, 0, 1, 1, 1, 0, 0, 0, 1, 0, 0, 1, 0, 1, 1, 0, 0, 0, 1, 0, 1, 1, 0, 1, 1, 0, 0, 1, 0, 0, 1, 0, 1, 0, 1, 1, 0, 0, 1, 0, 1, 0, 1, 0, 0, 1, 1, 1, 1, 0, 1, 0, 1, 0, 0, 0, 1, 0, 0, 0, 1, 1, 1, 0, 1, 0, 0, 0, 1, 1, 0, 0, 1, 1, 1, 0, 1, 1, 0, 0, 1, 0, 0, 1, 1, 1]\n"
     ]
    }
   ],
   "source": [
    "print(bob_results)"
   ]
  },
  {
   "cell_type": "code",
   "execution_count": 126,
   "id": "cf00e324-40b3-4735-b4b1-132c234aaacc",
   "metadata": {
    "tags": []
   },
   "outputs": [],
   "source": [
    "def remove_garbage(a_bases, b_bases, bits):\n",
    "    good_bits = []\n",
    "    for q in range(n):\n",
    "        if a_bases[q] == b_bases[q]:\n",
    "            good_bits.append(bits[q])\n",
    "    return good_bits"
   ]
  },
  {
   "cell_type": "code",
   "execution_count": 127,
   "id": "5209a5e9-38fe-4e33-b1a8-bb19c0df52c9",
   "metadata": {
    "tags": []
   },
   "outputs": [
    {
     "name": "stdout",
     "output_type": "stream",
     "text": [
      "[0, 1, 1, 1, 1, 0, 1, 0, 0, 0, 0, 1, 0, 0, 0, 1, 1, 1, 0, 1, 0, 1, 1, 0, 1, 0, 0, 0, 0, 0, 0, 1, 0, 0, 1, 1, 0, 0, 0, 1, 1, 1, 1, 0, 0, 1, 0, 0]\n"
     ]
    }
   ],
   "source": [
    "np.random.seed(seed=0)\n",
    "n = 100\n",
    "alice_bits = randint(2, size=n)\n",
    "alice_bases = randint(2, size=n)\n",
    "message = encode_message(alice_bits, alice_bases)\n",
    "bob_bases = randint(2, size=n)\n",
    "bob_results = measure_message(message, bob_bases)\n",
    "alice_key = remove_garbage(alice_bases, bob_bases, alice_bits)\n",
    "print(alice_key)"
   ]
  },
  {
   "cell_type": "code",
   "execution_count": 128,
   "id": "e8b3eb46-9a16-4750-83e5-ba79d8bb96ae",
   "metadata": {
    "tags": []
   },
   "outputs": [
    {
     "name": "stdout",
     "output_type": "stream",
     "text": [
      "[0, 1, 1, 1, 1, 0, 1, 0, 0, 0, 0, 1, 0, 0, 0, 1, 1, 1, 0, 1, 0, 1, 1, 0, 1, 0, 0, 0, 0, 0, 0, 1, 0, 0, 1, 1, 0, 0, 0, 1, 1, 1, 1, 0, 0, 1, 0, 0]\n"
     ]
    }
   ],
   "source": [
    "np.random.seed(seed=0)\n",
    "n = 100\n",
    "alice_bits = randint(2, size=n)\n",
    "alice_bases = randint(2, size=n)\n",
    "message = encode_message(alice_bits, alice_bases)\n",
    "bob_bases = randint(2, size=n)\n",
    "bob_results = measure_message(message, bob_bases)\n",
    "alice_key = remove_garbage(alice_bases, bob_bases, alice_bits)\n",
    "bob_key = remove_garbage(alice_bases, bob_bases, bob_results)\n",
    "print(bob_key)"
   ]
  },
  {
   "cell_type": "code",
   "execution_count": 129,
   "id": "c5e228f6-8af9-49a2-9067-05570d610ecc",
   "metadata": {
    "tags": []
   },
   "outputs": [],
   "source": [
    "def sample_bits(bits, selection):\n",
    "    sample = []\n",
    "    for i in selection:\n",
    "        i = np.mod(i, len(bits))\n",
    "        sample.append(bits.pop(i))\n",
    "    return sample"
   ]
  },
  {
   "cell_type": "code",
   "execution_count": 130,
   "id": "d364c15c-fdfd-405b-b584-811151a06f58",
   "metadata": {
    "tags": []
   },
   "outputs": [
    {
     "name": "stdout",
     "output_type": "stream",
     "text": [
      "  bob_sample = [0, 1, 0, 1, 1, 0, 0, 0, 0, 0, 0, 1, 0, 0, 0]\n",
      "alice_sample = [0, 1, 0, 1, 1, 0, 0, 0, 0, 0, 0, 1, 0, 0, 0]\n"
     ]
    }
   ],
   "source": [
    "np.random.seed(seed=0)\n",
    "n = 100\n",
    "alice_bits = randint(2, size=n)\n",
    "alice_bases = randint(2, size=n)\n",
    "message = encode_message(alice_bits, alice_bases)\n",
    "bob_bases = randint(2, size=n)\n",
    "bob_results = measure_message(message, bob_bases)\n",
    "alice_key = remove_garbage(alice_bases, bob_bases, alice_bits)\n",
    "bob_key = remove_garbage(alice_bases, bob_bases, bob_results)\n",
    "sample_size = 15\n",
    "bit_selection = randint(n, size=sample_size)\n",
    "bob_sample = sample_bits(bob_key, bit_selection)\n",
    "print(\"  bob_sample = \" + str(bob_sample))\n",
    "alice_sample = sample_bits(alice_key, bit_selection)\n",
    "print(\"alice_sample = \"+ str(alice_sample))"
   ]
  },
  {
   "cell_type": "code",
   "execution_count": 131,
   "id": "b4bb4726-ee78-4f1b-8e0a-ebb7f1e79036",
   "metadata": {
    "tags": []
   },
   "outputs": [
    {
     "data": {
      "text/plain": [
       "True"
      ]
     },
     "execution_count": 131,
     "metadata": {},
     "output_type": "execute_result"
    }
   ],
   "source": [
    "bob_sample == alice_sample"
   ]
  },
  {
   "cell_type": "code",
   "execution_count": 132,
   "id": "77ff4c62-7086-4173-9503-5236ed511213",
   "metadata": {
    "tags": []
   },
   "outputs": [
    {
     "name": "stdout",
     "output_type": "stream",
     "text": [
      "[1, 1, 0, 1, 0, 0, 1, 0, 1, 1, 1, 0, 1, 1, 1, 0, 1, 0, 0, 1, 0, 0, 1, 1, 0, 0, 0, 1, 1, 0, 1, 0, 0]\n",
      "[1, 1, 0, 1, 0, 0, 1, 0, 1, 1, 1, 0, 1, 1, 1, 0, 1, 0, 0, 1, 0, 0, 1, 1, 0, 0, 0, 1, 1, 0, 1, 0, 0]\n",
      "key length = 33\n"
     ]
    }
   ],
   "source": [
    "print(bob_key)\n",
    "print(alice_key)\n",
    "print(\"key length = %i\" % len(alice_key))"
   ]
  },
  {
   "cell_type": "code",
   "execution_count": 133,
   "id": "ce395db3-131d-4b58-89e0-3d56949e7ca1",
   "metadata": {
    "tags": []
   },
   "outputs": [],
   "source": [
    "np.random.seed(seed=3)"
   ]
  },
  {
   "cell_type": "code",
   "execution_count": 134,
   "id": "1d2c23c6-66ac-4f6d-a0f7-8dab6cf37c13",
   "metadata": {
    "tags": []
   },
   "outputs": [
    {
     "name": "stdout",
     "output_type": "stream",
     "text": [
      "[0 0 1 1 0 0 0 1 1 1 0 1 1 1 0 1 1 0 0 0 0 1 1 0 0 0 1 0 0 0 0 1 0 1 1 0 1\n",
      " 0 0 1 1 0 0 1 0 1 0 1 1 1 1 0 1 0 0 1 1 1 0 0 0 1 0 0 0 1 0 0 1 1 0 0 1 1\n",
      " 1 0 1 1 1 1 1 1 0 1 0 0 1 1 0 1 0 0 0 0 0 1 1 0 1 1]\n"
     ]
    }
   ],
   "source": [
    "np.random.seed(seed=3)\n",
    "alice_bits = randint(2, size=n)\n",
    "print(alice_bits)"
   ]
  },
  {
   "cell_type": "code",
   "execution_count": 135,
   "id": "b1fb4603-e5ef-4773-8b98-0e474a88c238",
   "metadata": {
    "tags": []
   },
   "outputs": [
    {
     "name": "stdout",
     "output_type": "stream",
     "text": [
      "[1 0 0 1 1 0 1 0 0 0 0 0 0 0 0 0 1 0 0 0 0 1 1 1 1 0 0 1 1 0 0 1 1 1 1 0 0\n",
      " 1 1 0 0 0 0 0 0 0 0 1 1 0 0 0 1 0 1 1 1 0 0 1 0 1 0 1 1 0 0 1 0 0 1 1 1 1\n",
      " 1 0 0 0 0 0 1 1 1 0 0 0 0 0 0 1 0 1 0 0 0 1 0 1 1 1]\n"
     ]
    }
   ],
   "source": [
    "np.random.seed(seed=3)\n",
    "alice_bits = randint(2, size=n)\n",
    "alice_bases = randint(2, size=n)\n",
    "message = encode_message(alice_bits, alice_bases)\n",
    "print(alice_bases)"
   ]
  },
  {
   "cell_type": "code",
   "execution_count": 136,
   "id": "3a95ca22-ae70-447a-816c-3d278d639b31",
   "metadata": {
    "tags": []
   },
   "outputs": [
    {
     "data": {
      "text/html": [
       "<pre style=\"word-wrap: normal;white-space: pre;background: #fff0;line-height: 1.1;font-family: &quot;Courier New&quot;,Courier,monospace\">     ┌───┐ ░ \n",
       "  q: ┤ H ├─░─\n",
       "     └───┘ ░ \n",
       "c: 1/════════\n",
       "             </pre>"
      ],
      "text/plain": [
       "     ┌───┐ ░ \n",
       "  q: ┤ H ├─░─\n",
       "     └───┘ ░ \n",
       "c: 1/════════\n",
       "             "
      ]
     },
     "execution_count": 136,
     "metadata": {},
     "output_type": "execute_result"
    }
   ],
   "source": [
    "message[0].draw(output='text',style='bw')"
   ]
  },
  {
   "cell_type": "code",
   "execution_count": 137,
   "id": "5268263f-dbc7-49af-bb08-a8f90f64b61a",
   "metadata": {
    "tags": []
   },
   "outputs": [
    {
     "name": "stdout",
     "output_type": "stream",
     "text": [
      "[0, 1, 0, 1, 0, 0, 0, 0, 1, 1, 1, 1, 1, 1, 0, 1, 0, 0, 0, 0, 0, 0, 0, 0, 1, 1, 1, 0, 0, 0, 0, 1, 1, 1, 1, 0, 1, 1, 0, 1, 0, 0, 1, 0, 0, 0, 1, 0, 1, 1, 0, 1, 1, 1, 1, 1, 1, 0, 0, 0, 0, 1, 1, 1, 0, 1, 0, 0, 1, 1, 1, 0, 1, 1, 0, 1, 1, 0, 1, 0, 1, 1, 0, 1, 0, 1, 1, 1, 0, 1, 1, 0, 0, 0, 0, 1, 1, 1, 1, 1]\n"
     ]
    }
   ],
   "source": [
    "np.random.seed(seed=3)\n",
    "alice_bits = randint(2, size=n)\n",
    "alice_bases = randint(2, size=n)\n",
    "message = encode_message(alice_bits, alice_bases)\n",
    "eve_bases = randint(2, size=n)\n",
    "intercepted_message = measure_message(message, eve_bases)\n",
    "print(intercepted_message)"
   ]
  },
  {
   "cell_type": "code",
   "execution_count": 140,
   "id": "744ebae3-b5a2-4fd5-b3b7-d341a448245f",
   "metadata": {
    "tags": []
   },
   "outputs": [
    {
     "data": {
      "text/html": [
       "<pre style=\"word-wrap: normal;white-space: pre;background: #fff0;line-height: 1.1;font-family: &quot;Courier New&quot;,Courier,monospace\">     ┌───┐ ░ ┌─┐┌───┐┌─┐\n",
       "  q: ┤ H ├─░─┤M├┤ H ├┤M├\n",
       "     └───┘ ░ └╥┘└───┘└╥┘\n",
       "c: 1/═════════╩═══════╩═\n",
       "              0       0 </pre>"
      ],
      "text/plain": [
       "     ┌───┐ ░ ┌─┐┌───┐┌─┐\n",
       "  q: ┤ H ├─░─┤M├┤ H ├┤M├\n",
       "     └───┘ ░ └╥┘└───┘└╥┘\n",
       "c: 1/═════════╩═══════╩═\n",
       "              0       0 "
      ]
     },
     "execution_count": 140,
     "metadata": {},
     "output_type": "execute_result"
    }
   ],
   "source": [
    "message[0].draw(output='text',style='bw')"
   ]
  },
  {
   "cell_type": "code",
   "execution_count": 141,
   "id": "f7b8fa1f-205a-429b-8f3d-815d751d6788",
   "metadata": {
    "tags": []
   },
   "outputs": [
    {
     "data": {
      "text/html": [
       "<pre style=\"word-wrap: normal;white-space: pre;background: #fff0;line-height: 1.1;font-family: &quot;Courier New&quot;,Courier,monospace\">     ┌───┐ ░ ┌─┐┌───┐┌─┐\n",
       "  q: ┤ H ├─░─┤M├┤ H ├┤M├\n",
       "     └───┘ ░ └╥┘└───┘└╥┘\n",
       "c: 1/═════════╩═══════╩═\n",
       "              0       0 </pre>"
      ],
      "text/plain": [
       "     ┌───┐ ░ ┌─┐┌───┐┌─┐\n",
       "  q: ┤ H ├─░─┤M├┤ H ├┤M├\n",
       "     └───┘ ░ └╥┘└───┘└╥┘\n",
       "c: 1/═════════╩═══════╩═\n",
       "              0       0 "
      ]
     },
     "execution_count": 141,
     "metadata": {},
     "output_type": "execute_result"
    }
   ],
   "source": [
    "np.random.seed(seed=3)\n",
    "alice_bits = randint(2, size=n)\n",
    "alice_bases = randint(2, size=n)\n",
    "message = encode_message(alice_bits, alice_bases)\n",
    "eve_bases = randint(2, size=n)\n",
    "intercepted_message = measure_message(message, eve_bases)\n",
    "bob_bases = randint(2, size=n)\n",
    "bob_results = measure_message(message, bob_bases)\n",
    "message[0].draw(output='text',style='bw')"
   ]
  },
  {
   "cell_type": "code",
   "execution_count": 142,
   "id": "8a3c35e6-4bb3-4c95-a860-1068b70ddf35",
   "metadata": {
    "tags": []
   },
   "outputs": [],
   "source": [
    "np.random.seed(seed=3)\n",
    "alice_bits = randint(2, size=n)\n",
    "alice_bases = randint(2, size=n)\n",
    "message = encode_message(alice_bits, alice_bases)\n",
    "eve_bases = randint(2, size=n)\n",
    "intercepted_message = measure_message(message, eve_bases)\n",
    "bob_bases = randint(2, size=n)\n",
    "bob_results = measure_message(message, bob_bases)\n",
    "bob_key = remove_garbage(alice_bases, bob_bases, bob_results)\n",
    "alice_key = remove_garbage(alice_bases, bob_bases, alice_bits)"
   ]
  },
  {
   "cell_type": "code",
   "execution_count": 143,
   "id": "36d3197e-6b36-43c0-b4be-51af4e70ba9e",
   "metadata": {
    "tags": []
   },
   "outputs": [
    {
     "name": "stdout",
     "output_type": "stream",
     "text": [
      "  bob_sample = [1, 1, 1, 0, 0, 1, 0, 1, 0, 0, 0, 1, 1, 0, 1]\n",
      "alice_sample = [1, 1, 0, 0, 1, 0, 0, 0, 0, 0, 0, 1, 0, 0, 0]\n"
     ]
    }
   ],
   "source": [
    "np.random.seed(seed=3)\n",
    "alice_bits = randint(2, size=n)\n",
    "alice_bases = randint(2, size=n)\n",
    "message = encode_message(alice_bits, alice_bases)\n",
    "eve_bases = randint(2, size=n)\n",
    "intercepted_message = measure_message(message, eve_bases)\n",
    "bob_bases = randint(2, size=n)\n",
    "bob_results = measure_message(message, bob_bases)\n",
    "bob_key = remove_garbage(alice_bases, bob_bases, bob_results)\n",
    "alice_key = remove_garbage(alice_bases, bob_bases, alice_bits)\n",
    "sample_size = 15\n",
    "bit_selection = randint(n, size=sample_size)\n",
    "bob_sample = sample_bits(bob_key, bit_selection)\n",
    "print(\"  bob_sample = \" + str(bob_sample))\n",
    "alice_sample = sample_bits(alice_key, bit_selection)\n",
    "print(\"alice_sample = \"+ str(alice_sample))"
   ]
  },
  {
   "cell_type": "code",
   "execution_count": 144,
   "id": "f6bb1f35-3e59-49f2-beee-382d85bfb0c4",
   "metadata": {
    "tags": []
   },
   "outputs": [
    {
     "data": {
      "text/plain": [
       "False"
      ]
     },
     "execution_count": 144,
     "metadata": {},
     "output_type": "execute_result"
    }
   ],
   "source": [
    "bob_sample == alice_sample"
   ]
  },
  {
   "cell_type": "code",
   "execution_count": 145,
   "id": "ae335a0d-40bc-4bdf-8ad9-b56ee4d6af65",
   "metadata": {
    "tags": []
   },
   "outputs": [
    {
     "name": "stdout",
     "output_type": "stream",
     "text": [
      "Eve's interference was detected.\n"
     ]
    }
   ],
   "source": [
    "n = 100\n",
    "alice_bits = randint(2, size=n)\n",
    "alice_bases = randint(2, size=n)\n",
    "message = encode_message(alice_bits, alice_bases)\n",
    "eve_bases = randint(2, size=n)\n",
    "intercepted_message = measure_message(message, eve_bases)\n",
    "bob_bases = randint(2, size=n)\n",
    "bob_results = measure_message(message, bob_bases)\n",
    "bob_key = remove_garbage(alice_bases, bob_bases, bob_results)\n",
    "alice_key = remove_garbage(alice_bases, bob_bases, alice_bits)\n",
    "sample_size = 15 \n",
    "bit_selection = randint(n, size=sample_size)\n",
    "bob_sample = sample_bits(bob_key, bit_selection)\n",
    "alice_sample = sample_bits(alice_key, bit_selection)\n",
    "if bob_sample != alice_sample:\n",
    "    print(\"Eve's interference was detected.\")\n",
    "else:\n",
    "    print(\"Eve went undetected!\")"
   ]
  }
 ],
 "metadata": {
  "kernelspec": {
   "display_name": "Python 3 (ipykernel)",
   "language": "python",
   "name": "python3"
  },
  "language_info": {
   "codemirror_mode": {
    "name": "ipython",
    "version": 3
   },
   "file_extension": ".py",
   "mimetype": "text/x-python",
   "name": "python",
   "nbconvert_exporter": "python",
   "pygments_lexer": "ipython3",
   "version": "3.10.12"
  },
  "widgets": {
   "application/vnd.jupyter.widget-state+json": {
    "state": {},
    "version_major": 2,
    "version_minor": 0
   }
  }
 },
 "nbformat": 4,
 "nbformat_minor": 5
}
